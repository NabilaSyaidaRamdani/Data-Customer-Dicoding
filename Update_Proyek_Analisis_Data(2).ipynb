{
 "cells": [
  {
   "cell_type": "markdown",
   "metadata": {
    "id": "H9wADwK78DCz"
   },
   "source": [
    "# Proyek Analisis Data: Customer\n",
    "- **Nama:** Nabila Syaida Ramdani\n",
    "- **Email:** nabila87611@gmail.com\n",
    "- **ID Dicoding:** NabilaSyaida"
   ]
  },
  {
   "cell_type": "markdown",
   "metadata": {
    "id": "eE0raob58DC0"
   },
   "source": [
    "## Menentukan Pertanyaan Bisnis"
   ]
  },
  {
   "cell_type": "markdown",
   "metadata": {
    "id": "GmQeQ5YF8DC0"
   },
   "source": [
    "- Kota mana yang memiliki jumlah pelanggan terbanyak berdasarkan (customer_city)?\n",
    "- Dapatkah kita membuat grafik untuk menunjukkan jumlah pelanggan di setiap kota (customer city) dan negara bagian (customer_state)?"
   ]
  },
  {
   "cell_type": "markdown",
   "metadata": {
    "id": "H-z4QGlO8DC1"
   },
   "source": [
    "## Import Semua Packages/Library yang Digunakan"
   ]
  },
  {
   "cell_type": "code",
   "execution_count": 1,
   "metadata": {
    "colab": {
     "base_uri": "https://localhost:8080/"
    },
    "id": "FVYwaObI8DC1",
    "outputId": "33ce32ad-9437-450d-9821-c9877e10df73"
   },
   "outputs": [
    {
     "name": "stdout",
     "output_type": "stream",
     "text": [
      "Requirement already satisfied: scipy in d:\\new folder\\lib\\site-packages (1.11.1)Note: you may need to restart the kernel to use updated packages.\n",
      "\n",
      "Requirement already satisfied: numpy<1.28.0,>=1.21.6 in d:\\new folder\\lib\\site-packages (from scipy) (1.24.3)\n"
     ]
    }
   ],
   "source": [
    "pip install scipy"
   ]
  },
  {
   "cell_type": "markdown",
   "metadata": {},
   "source": [
    "# Mengimport Library yang dibutuhkan\n",
    "* Pandas digunakan untuk manipulasi dan analisis data\n",
    "* Numpy adalah library yang digunakan untuk komputasi numerik\n",
    "* Scipy adalah extension dari numpy\n",
    "* Matplotlib digunakan untuk visualisasi data, membuat berbagai jenis plot seperti bar char, scatter plot, histogram, dll.\n"
   ]
  },
  {
   "cell_type": "code",
   "execution_count": 2,
   "metadata": {
    "id": "85raslDFhSxj"
   },
   "outputs": [],
   "source": [
    "import pandas as pd\n",
    "import numpy as np\n",
    "import scipy\n",
    "import matplotlib.pyplot as plt\n",
    "import seaborn as sns"
   ]
  },
  {
   "cell_type": "markdown",
   "metadata": {
    "id": "h_Sh51Xy8DC1"
   },
   "source": [
    "## Data Wrangling"
   ]
  },
  {
   "cell_type": "code",
   "execution_count": 3,
   "metadata": {
    "colab": {
     "base_uri": "https://localhost:8080/",
     "height": 478
    },
    "id": "dlWWyVOAhRcJ",
    "outputId": "6e55bad1-a23c-48b2-bf47-8fe789b01ab4"
   },
   "outputs": [
    {
     "data": {
      "text/html": [
       "<div>\n",
       "<style scoped>\n",
       "    .dataframe tbody tr th:only-of-type {\n",
       "        vertical-align: middle;\n",
       "    }\n",
       "\n",
       "    .dataframe tbody tr th {\n",
       "        vertical-align: top;\n",
       "    }\n",
       "\n",
       "    .dataframe thead th {\n",
       "        text-align: right;\n",
       "    }\n",
       "</style>\n",
       "<table border=\"1\" class=\"dataframe\">\n",
       "  <thead>\n",
       "    <tr style=\"text-align: right;\">\n",
       "      <th></th>\n",
       "      <th>customer_id</th>\n",
       "      <th>customer_unique_id</th>\n",
       "      <th>customer_zip_code_prefix</th>\n",
       "      <th>customer_city</th>\n",
       "      <th>customer_state</th>\n",
       "    </tr>\n",
       "  </thead>\n",
       "  <tbody>\n",
       "    <tr>\n",
       "      <th>0</th>\n",
       "      <td>06b8999e2fba1a1fbc88172c00ba8bc7</td>\n",
       "      <td>861eff4711a542e4b93843c6dd7febb0</td>\n",
       "      <td>14409</td>\n",
       "      <td>franca</td>\n",
       "      <td>SP</td>\n",
       "    </tr>\n",
       "    <tr>\n",
       "      <th>1</th>\n",
       "      <td>18955e83d337fd6b2def6b18a428ac77</td>\n",
       "      <td>290c77bc529b7ac935b93aa66c333dc3</td>\n",
       "      <td>9790</td>\n",
       "      <td>sao bernardo do campo</td>\n",
       "      <td>SP</td>\n",
       "    </tr>\n",
       "    <tr>\n",
       "      <th>2</th>\n",
       "      <td>4e7b3e00288586ebd08712fdd0374a03</td>\n",
       "      <td>060e732b5b29e8181a18229c7b0b2b5e</td>\n",
       "      <td>1151</td>\n",
       "      <td>sao paulo</td>\n",
       "      <td>SP</td>\n",
       "    </tr>\n",
       "    <tr>\n",
       "      <th>3</th>\n",
       "      <td>b2b6027bc5c5109e529d4dc6358b12c3</td>\n",
       "      <td>259dac757896d24d7702b9acbbff3f3c</td>\n",
       "      <td>8775</td>\n",
       "      <td>mogi das cruzes</td>\n",
       "      <td>SP</td>\n",
       "    </tr>\n",
       "    <tr>\n",
       "      <th>4</th>\n",
       "      <td>4f2d8ab171c80ec8364f7c12e35b23ad</td>\n",
       "      <td>345ecd01c38d18a9036ed96c73b8d066</td>\n",
       "      <td>13056</td>\n",
       "      <td>campinas</td>\n",
       "      <td>SP</td>\n",
       "    </tr>\n",
       "    <tr>\n",
       "      <th>...</th>\n",
       "      <td>...</td>\n",
       "      <td>...</td>\n",
       "      <td>...</td>\n",
       "      <td>...</td>\n",
       "      <td>...</td>\n",
       "    </tr>\n",
       "    <tr>\n",
       "      <th>99436</th>\n",
       "      <td>17ddf5dd5d51696bb3d7c6291687be6f</td>\n",
       "      <td>1a29b476fee25c95fbafc67c5ac95cf8</td>\n",
       "      <td>3937</td>\n",
       "      <td>sao paulo</td>\n",
       "      <td>SP</td>\n",
       "    </tr>\n",
       "    <tr>\n",
       "      <th>99437</th>\n",
       "      <td>e7b71a9017aa05c9a7fd292d714858e8</td>\n",
       "      <td>d52a67c98be1cf6a5c84435bd38d095d</td>\n",
       "      <td>6764</td>\n",
       "      <td>taboao da serra</td>\n",
       "      <td>SP</td>\n",
       "    </tr>\n",
       "    <tr>\n",
       "      <th>99438</th>\n",
       "      <td>5e28dfe12db7fb50a4b2f691faecea5e</td>\n",
       "      <td>e9f50caf99f032f0bf3c55141f019d99</td>\n",
       "      <td>60115</td>\n",
       "      <td>fortaleza</td>\n",
       "      <td>CE</td>\n",
       "    </tr>\n",
       "    <tr>\n",
       "      <th>99439</th>\n",
       "      <td>56b18e2166679b8a959d72dd06da27f9</td>\n",
       "      <td>73c2643a0a458b49f58cea58833b192e</td>\n",
       "      <td>92120</td>\n",
       "      <td>canoas</td>\n",
       "      <td>RS</td>\n",
       "    </tr>\n",
       "    <tr>\n",
       "      <th>99440</th>\n",
       "      <td>274fa6071e5e17fe303b9748641082c8</td>\n",
       "      <td>84732c5050c01db9b23e19ba39899398</td>\n",
       "      <td>6703</td>\n",
       "      <td>cotia</td>\n",
       "      <td>SP</td>\n",
       "    </tr>\n",
       "  </tbody>\n",
       "</table>\n",
       "<p>99441 rows × 5 columns</p>\n",
       "</div>"
      ],
      "text/plain": [
       "                            customer_id                customer_unique_id  \\\n",
       "0      06b8999e2fba1a1fbc88172c00ba8bc7  861eff4711a542e4b93843c6dd7febb0   \n",
       "1      18955e83d337fd6b2def6b18a428ac77  290c77bc529b7ac935b93aa66c333dc3   \n",
       "2      4e7b3e00288586ebd08712fdd0374a03  060e732b5b29e8181a18229c7b0b2b5e   \n",
       "3      b2b6027bc5c5109e529d4dc6358b12c3  259dac757896d24d7702b9acbbff3f3c   \n",
       "4      4f2d8ab171c80ec8364f7c12e35b23ad  345ecd01c38d18a9036ed96c73b8d066   \n",
       "...                                 ...                               ...   \n",
       "99436  17ddf5dd5d51696bb3d7c6291687be6f  1a29b476fee25c95fbafc67c5ac95cf8   \n",
       "99437  e7b71a9017aa05c9a7fd292d714858e8  d52a67c98be1cf6a5c84435bd38d095d   \n",
       "99438  5e28dfe12db7fb50a4b2f691faecea5e  e9f50caf99f032f0bf3c55141f019d99   \n",
       "99439  56b18e2166679b8a959d72dd06da27f9  73c2643a0a458b49f58cea58833b192e   \n",
       "99440  274fa6071e5e17fe303b9748641082c8  84732c5050c01db9b23e19ba39899398   \n",
       "\n",
       "       customer_zip_code_prefix          customer_city customer_state  \n",
       "0                         14409                 franca             SP  \n",
       "1                          9790  sao bernardo do campo             SP  \n",
       "2                          1151              sao paulo             SP  \n",
       "3                          8775        mogi das cruzes             SP  \n",
       "4                         13056               campinas             SP  \n",
       "...                         ...                    ...            ...  \n",
       "99436                      3937              sao paulo             SP  \n",
       "99437                      6764        taboao da serra             SP  \n",
       "99438                     60115              fortaleza             CE  \n",
       "99439                     92120                 canoas             RS  \n",
       "99440                      6703                  cotia             SP  \n",
       "\n",
       "[99441 rows x 5 columns]"
      ]
     },
     "execution_count": 3,
     "metadata": {},
     "output_type": "execute_result"
    }
   ],
   "source": [
    "data = pd.read_csv(\"olist_customers_dataset.csv\", delimiter=\",\")\n",
    "data"
   ]
  },
  {
   "cell_type": "markdown",
   "metadata": {},
   "source": [
    "## Penjelasan Mengenai setiap kolom dari Data\n",
    "\n",
    "* customer id: berisi ID unik pelanggan, setiap baris memiliki nilai yang berbeda dan unik untuk mengidentifikasi pelanggan secara individual\n",
    "* Customer_unique_id: berisi ID unik pelanggan, namun mempresentasikan pelanggan yang unik di seluruh sistem atau platform.\n",
    "* customer_zip_code_prefix: kolom ini menyimpan kode pos dari pelanggan, ini menunjukkan lokasi geografis tempat tinggal pelanggan.\n",
    "* customer_city: berisi nama kota tempat pelanggan berada.\n",
    "* customer_state: berisi kode provinsi atau negara bagian pelanggan, menggunakan singkatan dua huruf yang sesuai, misal \n",
    "    - SP: Sao Paulo\n",
    "    - CE: Ceara\n",
    "    - RS: Rio Grande do Sul"
   ]
  },
  {
   "cell_type": "markdown",
   "metadata": {
    "id": "sXU2GBYu8DC1"
   },
   "source": [
    "### Gathering Data"
   ]
  },
  {
   "cell_type": "markdown",
   "metadata": {},
   "source": [
    "##### data.head\n",
    "Menampilkan lima data teratas dari Data customer"
   ]
  },
  {
   "cell_type": "code",
   "execution_count": 4,
   "metadata": {
    "colab": {
     "base_uri": "https://localhost:8080/",
     "height": 261
    },
    "id": "zjCBk1BI8DC1",
    "outputId": "6903302d-fbcf-408f-9c0a-e679f392ddb6"
   },
   "outputs": [
    {
     "data": {
      "text/html": [
       "<div>\n",
       "<style scoped>\n",
       "    .dataframe tbody tr th:only-of-type {\n",
       "        vertical-align: middle;\n",
       "    }\n",
       "\n",
       "    .dataframe tbody tr th {\n",
       "        vertical-align: top;\n",
       "    }\n",
       "\n",
       "    .dataframe thead th {\n",
       "        text-align: right;\n",
       "    }\n",
       "</style>\n",
       "<table border=\"1\" class=\"dataframe\">\n",
       "  <thead>\n",
       "    <tr style=\"text-align: right;\">\n",
       "      <th></th>\n",
       "      <th>customer_id</th>\n",
       "      <th>customer_unique_id</th>\n",
       "      <th>customer_zip_code_prefix</th>\n",
       "      <th>customer_city</th>\n",
       "      <th>customer_state</th>\n",
       "    </tr>\n",
       "  </thead>\n",
       "  <tbody>\n",
       "    <tr>\n",
       "      <th>0</th>\n",
       "      <td>06b8999e2fba1a1fbc88172c00ba8bc7</td>\n",
       "      <td>861eff4711a542e4b93843c6dd7febb0</td>\n",
       "      <td>14409</td>\n",
       "      <td>franca</td>\n",
       "      <td>SP</td>\n",
       "    </tr>\n",
       "    <tr>\n",
       "      <th>1</th>\n",
       "      <td>18955e83d337fd6b2def6b18a428ac77</td>\n",
       "      <td>290c77bc529b7ac935b93aa66c333dc3</td>\n",
       "      <td>9790</td>\n",
       "      <td>sao bernardo do campo</td>\n",
       "      <td>SP</td>\n",
       "    </tr>\n",
       "    <tr>\n",
       "      <th>2</th>\n",
       "      <td>4e7b3e00288586ebd08712fdd0374a03</td>\n",
       "      <td>060e732b5b29e8181a18229c7b0b2b5e</td>\n",
       "      <td>1151</td>\n",
       "      <td>sao paulo</td>\n",
       "      <td>SP</td>\n",
       "    </tr>\n",
       "    <tr>\n",
       "      <th>3</th>\n",
       "      <td>b2b6027bc5c5109e529d4dc6358b12c3</td>\n",
       "      <td>259dac757896d24d7702b9acbbff3f3c</td>\n",
       "      <td>8775</td>\n",
       "      <td>mogi das cruzes</td>\n",
       "      <td>SP</td>\n",
       "    </tr>\n",
       "    <tr>\n",
       "      <th>4</th>\n",
       "      <td>4f2d8ab171c80ec8364f7c12e35b23ad</td>\n",
       "      <td>345ecd01c38d18a9036ed96c73b8d066</td>\n",
       "      <td>13056</td>\n",
       "      <td>campinas</td>\n",
       "      <td>SP</td>\n",
       "    </tr>\n",
       "  </tbody>\n",
       "</table>\n",
       "</div>"
      ],
      "text/plain": [
       "                        customer_id                customer_unique_id  \\\n",
       "0  06b8999e2fba1a1fbc88172c00ba8bc7  861eff4711a542e4b93843c6dd7febb0   \n",
       "1  18955e83d337fd6b2def6b18a428ac77  290c77bc529b7ac935b93aa66c333dc3   \n",
       "2  4e7b3e00288586ebd08712fdd0374a03  060e732b5b29e8181a18229c7b0b2b5e   \n",
       "3  b2b6027bc5c5109e529d4dc6358b12c3  259dac757896d24d7702b9acbbff3f3c   \n",
       "4  4f2d8ab171c80ec8364f7c12e35b23ad  345ecd01c38d18a9036ed96c73b8d066   \n",
       "\n",
       "   customer_zip_code_prefix          customer_city customer_state  \n",
       "0                     14409                 franca             SP  \n",
       "1                      9790  sao bernardo do campo             SP  \n",
       "2                      1151              sao paulo             SP  \n",
       "3                      8775        mogi das cruzes             SP  \n",
       "4                     13056               campinas             SP  "
      ]
     },
     "execution_count": 4,
     "metadata": {},
     "output_type": "execute_result"
    }
   ],
   "source": [
    "data.head()"
   ]
  },
  {
   "cell_type": "code",
   "execution_count": 5,
   "metadata": {
    "colab": {
     "base_uri": "https://localhost:8080/",
     "height": 300
    },
    "id": "uj0_ZfgMhyyV",
    "outputId": "8d973eb3-bcb5-4299-98b0-9462bf678d9a",
    "scrolled": false
   },
   "outputs": [
    {
     "data": {
      "text/html": [
       "<div>\n",
       "<style scoped>\n",
       "    .dataframe tbody tr th:only-of-type {\n",
       "        vertical-align: middle;\n",
       "    }\n",
       "\n",
       "    .dataframe tbody tr th {\n",
       "        vertical-align: top;\n",
       "    }\n",
       "\n",
       "    .dataframe thead th {\n",
       "        text-align: right;\n",
       "    }\n",
       "</style>\n",
       "<table border=\"1\" class=\"dataframe\">\n",
       "  <thead>\n",
       "    <tr style=\"text-align: right;\">\n",
       "      <th></th>\n",
       "      <th>customer_zip_code_prefix</th>\n",
       "    </tr>\n",
       "  </thead>\n",
       "  <tbody>\n",
       "    <tr>\n",
       "      <th>count</th>\n",
       "      <td>99441.000000</td>\n",
       "    </tr>\n",
       "    <tr>\n",
       "      <th>mean</th>\n",
       "      <td>35137.474583</td>\n",
       "    </tr>\n",
       "    <tr>\n",
       "      <th>std</th>\n",
       "      <td>29797.938996</td>\n",
       "    </tr>\n",
       "    <tr>\n",
       "      <th>min</th>\n",
       "      <td>1003.000000</td>\n",
       "    </tr>\n",
       "    <tr>\n",
       "      <th>25%</th>\n",
       "      <td>11347.000000</td>\n",
       "    </tr>\n",
       "    <tr>\n",
       "      <th>50%</th>\n",
       "      <td>24416.000000</td>\n",
       "    </tr>\n",
       "    <tr>\n",
       "      <th>75%</th>\n",
       "      <td>58900.000000</td>\n",
       "    </tr>\n",
       "    <tr>\n",
       "      <th>max</th>\n",
       "      <td>99990.000000</td>\n",
       "    </tr>\n",
       "  </tbody>\n",
       "</table>\n",
       "</div>"
      ],
      "text/plain": [
       "       customer_zip_code_prefix\n",
       "count              99441.000000\n",
       "mean               35137.474583\n",
       "std                29797.938996\n",
       "min                 1003.000000\n",
       "25%                11347.000000\n",
       "50%                24416.000000\n",
       "75%                58900.000000\n",
       "max                99990.000000"
      ]
     },
     "execution_count": 5,
     "metadata": {},
     "output_type": "execute_result"
    }
   ],
   "source": [
    "data.describe()"
   ]
  },
  {
   "cell_type": "markdown",
   "metadata": {
    "id": "MMi6xGaDkbCi"
   },
   "source": [
    "**Insight:**\n",
    "- Data diambil melalui platform kaggle https://www.kaggle.com/datasets/olistbr/brazilian-ecommerce\n",
    "- Jumlah total observasi 99441 baris dengan 5 kolom dan terdapat beberapa tipe dalam data tersebut diantaranya object dan integer, rata-rata dari semua nilai dalam kolom tersebut adalah 35.137, standar deviasi mengukur seberapa jauh nilai-nilai tersebut menyebar dari nilai rata-ratanya, data ini menunjukkan penyebaran sekitar 29.798."
   ]
  },
  {
   "cell_type": "markdown",
   "metadata": {
    "id": "FHSiqaZp8DC1"
   },
   "source": [
    "### Assessing Data"
   ]
  },
  {
   "cell_type": "code",
   "execution_count": 6,
   "metadata": {
    "colab": {
     "base_uri": "https://localhost:8080/",
     "height": 241
    },
    "id": "ax-3tEjc9Cj1",
    "outputId": "3ed72885-c0af-4d51-a65b-8a3be7b45d0e"
   },
   "outputs": [
    {
     "data": {
      "text/plain": [
       "customer_id                 99441\n",
       "customer_unique_id          96096\n",
       "customer_zip_code_prefix    14994\n",
       "customer_city                4119\n",
       "customer_state                 27\n",
       "dtype: int64"
      ]
     },
     "execution_count": 6,
     "metadata": {},
     "output_type": "execute_result"
    }
   ],
   "source": [
    "data.nunique()"
   ]
  },
  {
   "cell_type": "code",
   "execution_count": 7,
   "metadata": {
    "colab": {
     "base_uri": "https://localhost:8080/",
     "height": 241
    },
    "id": "jVnYpprE9Evz",
    "outputId": "dd0e3c0d-7ab9-4fa7-aa51-1dab00b120a3"
   },
   "outputs": [
    {
     "data": {
      "text/plain": [
       "customer_id                 0\n",
       "customer_unique_id          0\n",
       "customer_zip_code_prefix    0\n",
       "customer_city               0\n",
       "customer_state              0\n",
       "dtype: int64"
      ]
     },
     "execution_count": 7,
     "metadata": {},
     "output_type": "execute_result"
    }
   ],
   "source": [
    "data.isna().sum()"
   ]
  },
  {
   "cell_type": "markdown",
   "metadata": {
    "id": "7dtxhAPrkhPL"
   },
   "source": [
    "**Insight:**\n",
    "- Tidak adanya data yang null(kosong) , berarti data tersebut lengkap dan tidak adanya nilai yang hilang, dan tidak diperlukan teknik untuk mengatasi missing value.\n",
    "- Dapat dilihat pada output di atas pada kolom customer_id 0 menunjukkan tidak adanya data yang hilang, dan seterusnya pada semua kolom"
   ]
  },
  {
   "cell_type": "markdown",
   "metadata": {
    "id": "EhN5R4hr8DC1"
   },
   "source": [
    "### Cleaning Data"
   ]
  },
  {
   "cell_type": "code",
   "execution_count": 8,
   "metadata": {
    "colab": {
     "base_uri": "https://localhost:8080/"
    },
    "id": "dbX9k3qAiKG1",
    "outputId": "daa632bf-d3ab-47f6-9257-6a03712ae34b"
   },
   "outputs": [
    {
     "data": {
      "text/plain": [
       "0"
      ]
     },
     "execution_count": 8,
     "metadata": {},
     "output_type": "execute_result"
    }
   ],
   "source": [
    "data.duplicated().sum()"
   ]
  },
  {
   "cell_type": "markdown",
   "metadata": {
    "id": "Q_5ejIqckiSP"
   },
   "source": [
    "**Insight:**\n",
    "- Menunjukkan tidak adanya data yang duplikat."
   ]
  },
  {
   "cell_type": "markdown",
   "metadata": {
    "id": "gp-Y6wU38DC1"
   },
   "source": [
    "## Exploratory Data Analysis (EDA)"
   ]
  },
  {
   "cell_type": "code",
   "execution_count": 9,
   "metadata": {
    "colab": {
     "base_uri": "https://localhost:8080/",
     "height": 414
    },
    "id": "e9CQCZjk8DC2",
    "outputId": "cfbb9814-f710-4eab-8404-c5a22a3b34bf",
    "scrolled": true
   },
   "outputs": [
    {
     "data": {
      "text/html": [
       "<div>\n",
       "<style scoped>\n",
       "    .dataframe tbody tr th:only-of-type {\n",
       "        vertical-align: middle;\n",
       "    }\n",
       "\n",
       "    .dataframe tbody tr th {\n",
       "        vertical-align: top;\n",
       "    }\n",
       "\n",
       "    .dataframe thead th {\n",
       "        text-align: right;\n",
       "    }\n",
       "</style>\n",
       "<table border=\"1\" class=\"dataframe\">\n",
       "  <thead>\n",
       "    <tr style=\"text-align: right;\">\n",
       "      <th></th>\n",
       "      <th>customer_id</th>\n",
       "      <th>customer_unique_id</th>\n",
       "      <th>customer_zip_code_prefix</th>\n",
       "      <th>customer_city</th>\n",
       "      <th>customer_state</th>\n",
       "    </tr>\n",
       "  </thead>\n",
       "  <tbody>\n",
       "    <tr>\n",
       "      <th>count</th>\n",
       "      <td>99441</td>\n",
       "      <td>99441</td>\n",
       "      <td>99441.000000</td>\n",
       "      <td>99441</td>\n",
       "      <td>99441</td>\n",
       "    </tr>\n",
       "    <tr>\n",
       "      <th>unique</th>\n",
       "      <td>99441</td>\n",
       "      <td>96096</td>\n",
       "      <td>NaN</td>\n",
       "      <td>4119</td>\n",
       "      <td>27</td>\n",
       "    </tr>\n",
       "    <tr>\n",
       "      <th>top</th>\n",
       "      <td>06b8999e2fba1a1fbc88172c00ba8bc7</td>\n",
       "      <td>8d50f5eadf50201ccdcedfb9e2ac8455</td>\n",
       "      <td>NaN</td>\n",
       "      <td>sao paulo</td>\n",
       "      <td>SP</td>\n",
       "    </tr>\n",
       "    <tr>\n",
       "      <th>freq</th>\n",
       "      <td>1</td>\n",
       "      <td>17</td>\n",
       "      <td>NaN</td>\n",
       "      <td>15540</td>\n",
       "      <td>41746</td>\n",
       "    </tr>\n",
       "    <tr>\n",
       "      <th>mean</th>\n",
       "      <td>NaN</td>\n",
       "      <td>NaN</td>\n",
       "      <td>35137.474583</td>\n",
       "      <td>NaN</td>\n",
       "      <td>NaN</td>\n",
       "    </tr>\n",
       "    <tr>\n",
       "      <th>std</th>\n",
       "      <td>NaN</td>\n",
       "      <td>NaN</td>\n",
       "      <td>29797.938996</td>\n",
       "      <td>NaN</td>\n",
       "      <td>NaN</td>\n",
       "    </tr>\n",
       "    <tr>\n",
       "      <th>min</th>\n",
       "      <td>NaN</td>\n",
       "      <td>NaN</td>\n",
       "      <td>1003.000000</td>\n",
       "      <td>NaN</td>\n",
       "      <td>NaN</td>\n",
       "    </tr>\n",
       "    <tr>\n",
       "      <th>25%</th>\n",
       "      <td>NaN</td>\n",
       "      <td>NaN</td>\n",
       "      <td>11347.000000</td>\n",
       "      <td>NaN</td>\n",
       "      <td>NaN</td>\n",
       "    </tr>\n",
       "    <tr>\n",
       "      <th>50%</th>\n",
       "      <td>NaN</td>\n",
       "      <td>NaN</td>\n",
       "      <td>24416.000000</td>\n",
       "      <td>NaN</td>\n",
       "      <td>NaN</td>\n",
       "    </tr>\n",
       "    <tr>\n",
       "      <th>75%</th>\n",
       "      <td>NaN</td>\n",
       "      <td>NaN</td>\n",
       "      <td>58900.000000</td>\n",
       "      <td>NaN</td>\n",
       "      <td>NaN</td>\n",
       "    </tr>\n",
       "    <tr>\n",
       "      <th>max</th>\n",
       "      <td>NaN</td>\n",
       "      <td>NaN</td>\n",
       "      <td>99990.000000</td>\n",
       "      <td>NaN</td>\n",
       "      <td>NaN</td>\n",
       "    </tr>\n",
       "  </tbody>\n",
       "</table>\n",
       "</div>"
      ],
      "text/plain": [
       "                             customer_id                customer_unique_id  \\\n",
       "count                              99441                             99441   \n",
       "unique                             99441                             96096   \n",
       "top     06b8999e2fba1a1fbc88172c00ba8bc7  8d50f5eadf50201ccdcedfb9e2ac8455   \n",
       "freq                                   1                                17   \n",
       "mean                                 NaN                               NaN   \n",
       "std                                  NaN                               NaN   \n",
       "min                                  NaN                               NaN   \n",
       "25%                                  NaN                               NaN   \n",
       "50%                                  NaN                               NaN   \n",
       "75%                                  NaN                               NaN   \n",
       "max                                  NaN                               NaN   \n",
       "\n",
       "        customer_zip_code_prefix customer_city customer_state  \n",
       "count               99441.000000         99441          99441  \n",
       "unique                       NaN          4119             27  \n",
       "top                          NaN     sao paulo             SP  \n",
       "freq                         NaN         15540          41746  \n",
       "mean                35137.474583           NaN            NaN  \n",
       "std                 29797.938996           NaN            NaN  \n",
       "min                  1003.000000           NaN            NaN  \n",
       "25%                 11347.000000           NaN            NaN  \n",
       "50%                 24416.000000           NaN            NaN  \n",
       "75%                 58900.000000           NaN            NaN  \n",
       "max                 99990.000000           NaN            NaN  "
      ]
     },
     "execution_count": 9,
     "metadata": {},
     "output_type": "execute_result"
    }
   ],
   "source": [
    "data.describe(include = \"all\")"
   ]
  },
  {
   "cell_type": "markdown",
   "metadata": {
    "id": "th_Lzl2Fkj9O"
   },
   "source": [
    "**Insight:**\n",
    "- Dapat dilihat konsentrasi pelanggan, banyak yang berasal dari kota Sao Paulo dan negara bagian SP.\n",
    "- Sao Paulo adalah negara bagian yang memiliki frekuensi tertinggi, dengan 41476 pelanggan dapat dilihat pada customer_state."
   ]
  },
  {
   "cell_type": "code",
   "execution_count": 10,
   "metadata": {
    "colab": {
     "base_uri": "https://localhost:8080/",
     "height": 489
    },
    "id": "d6bLq6gSiZrv",
    "outputId": "7edf933e-685f-46f7-a319-0e970dadae59"
   },
   "outputs": [
    {
     "data": {
      "text/plain": [
       "customer_city\n",
       "sao paulo         15540\n",
       "rio de janeiro     6882\n",
       "belo horizonte     2773\n",
       "brasilia           2131\n",
       "curitiba           1521\n",
       "                  ...  \n",
       "ibiara                1\n",
       "rio espera            1\n",
       "rio dos indios        1\n",
       "rio dos cedros        1\n",
       "lagoao                1\n",
       "Name: customer_id, Length: 4119, dtype: int64"
      ]
     },
     "execution_count": 10,
     "metadata": {},
     "output_type": "execute_result"
    }
   ],
   "source": [
    "city = data.groupby(by=\"customer_city\").customer_id.nunique().sort_values(ascending=False)\n",
    "city"
   ]
  },
  {
   "cell_type": "markdown",
   "metadata": {
    "id": "JuQxg8zLirzv"
   },
   "source": [
    "**Insight:**\n",
    "- Dapat dilihat kolom pertama menunjukkan nama kota (customer_city) dan kolom kedua menunjukkan jumlah pelanggan dari masing-masing kota (customer_state), Sao paulo memiliki 15.540 pelanggan, kota Laogao hanya memiliki 1 pelanggan."
   ]
  },
  {
   "cell_type": "markdown",
   "metadata": {
    "id": "zsyZjqak8DC2"
   },
   "source": [
    "## Visualization & Explanatory Analysis"
   ]
  },
  {
   "cell_type": "markdown",
   "metadata": {
    "id": "HZxOiQ6n8DC2"
   },
   "source": [
    "### Pertanyaan 1:\n",
    "Kota mana yang memiliki pelanggan terbanyak?"
   ]
  },
  {
   "cell_type": "code",
   "execution_count": 11,
   "metadata": {
    "colab": {
     "base_uri": "https://localhost:8080/",
     "height": 420
    },
    "id": "yVhKwJyNjSuy",
    "outputId": "d895f997-8510-4f3d-dd53-4dc89fc76690"
   },
   "outputs": [
    {
     "data": {
      "image/png": "[encoded data removed]",
      "text/plain": [
       "<Figure size 640x480 with 1 Axes>"
      ]
     },
     "metadata": {},
     "output_type": "display_data"
    }
   ],
   "source": [
    "city_counts = data[\"customer_city\"].value_counts().head(10)  # 10 kota teratas\n",
    "plt.barh(city_counts.index, city_counts.values)\n",
    "plt.xlabel(\"Number of Customers\")\n",
    "plt.title(\"Top 10 Cities by Number of Customers\")\n",
    "\n",
    "for index, value in enumerate(city_counts.values):\n",
    "  plt.text(value, index, str(value))\n",
    "plt.show()"
   ]
  },
  {
   "cell_type": "markdown",
   "metadata": {
    "id": "5afsHu61ntdg"
   },
   "source": [
    "- Dapat dilihat dari bar chart di atas menunjukkan bahwa pelanggan terbanyak adalah kota Sao Paulo dengan 15540 pelanggan."
   ]
  },
  {
   "cell_type": "markdown",
   "metadata": {
    "id": "DgHI7CiU8DC2"
   },
   "source": [
    "### Pertanyaan 2:"
   ]
  },
  {
   "cell_type": "code",
   "execution_count": 12,
   "metadata": {
    "colab": {
     "base_uri": "https://localhost:8080/",
     "height": 598
    },
    "id": "Go0lCsvO8DC2",
    "outputId": "ce322249-66c6-44b9-c568-cd0b4dff4d63"
   },
   "outputs": [
    {
     "data": {
      "image/png": "[encoded data removed]",
      "text/plain": [
       "<Figure size 700x700 with 1 Axes>"
      ]
     },
     "metadata": {},
     "output_type": "display_data"
    }
   ],
   "source": [
    "state_counts = data[\"customer_state\"].value_counts().head(5)\n",
    "plt.figure(figsize=(7, 7))\n",
    "plt.pie(state_counts.values, labels=state_counts.index, autopct='%1.1f%%', startangle=90, colors=['#ff9999','#66b3ff','#99ff99','#ffcc99','#c2c2f0'])\n",
    "\n",
    "plt.title(\"Top 5 States by Number of Customers\")\n",
    "plt.show()\n"
   ]
  },
  {
   "cell_type": "markdown",
   "metadata": {
    "id": "_0-36BDLklRg"
   },
   "source": [
    " **Insight:**\n",
    "- Negara Sao Paulo dengan jumlah pelanggan terbanyak mencakup 54.4% dari total pelanggan, negara bagian kedua terbanyak yaitu Rio de Janeiro dengan nilai 16.7%, negara ketiga terbanyak yaitu MG (Minas Gerais) dengan nilai 15.2%."
   ]
  },
  {
   "cell_type": "code",
   "execution_count": 20,
   "metadata": {},
   "outputs": [
    {
     "data": {
      "image/png": "[encoded data removed]",
      "text/plain": [
       "<Figure size 640x480 with 1 Axes>"
      ]
     },
     "metadata": {},
     "output_type": "display_data"
    }
   ],
   "source": [
    "city_counts = data[\"customer_city\"].value_counts().head(10)  # 10 kota teratas\n",
    "plt.scatter(city_counts.values, city_counts.index, color='blue', s=100, alpha=0.7)\n",
    "plt.xlabel(\"Number of Customers\")\n",
    "plt.title(\"Top 10 Cities by Number of Customers\")\n",
    "for index, value in enumerate(city_counts.values):\n",
    "    plt.text(value, index, str(value), va='center')\n",
    "plt.show()"
   ]
  },
  {
   "cell_type": "markdown",
   "metadata": {},
   "source": [
    "* Sumbu Y menampilkan nama-nama 10 kota dengan jumlah pelanggan terbanyak, seperti Sao Paulo, Rio de Janeiro, Belo Horizonte, Brasilia, Curitiba dst.\n",
    "* Sumbu X menunjukkan jumlah pelanggan di setiap kota, Sao Paulo memiliki 15.540 pelanggan, sementara Sao bernado memiliki 938 pelanggan."
   ]
  },
  {
   "cell_type": "markdown",
   "metadata": {
    "id": "9y4VUsmcYNZ5"
   },
   "source": [
    "## Analisis Lanjutan (Opsional)"
   ]
  },
  {
   "cell_type": "code",
   "execution_count": 13,
   "metadata": {
    "colab": {
     "base_uri": "https://localhost:8080/"
    },
    "id": "iWhnzsJGYUCO",
    "outputId": "659c0829-fc43-4a03-8d54-265eb379eeab"
   },
   "outputs": [
    {
     "name": "stdout",
     "output_type": "stream",
     "text": [
      "{'sao joao do piaui', 'tuparendi', 'ipameri', 'porto seguro', 'cachoeira da prata', 'bataipora', 'desterro de entre rios', 'pirajui', 'palmeirinha', 'bacuri', 'ibiam', 'vila velha', 'carnaiba do sertao', 'lagoa do carro', 'sitio novo do tocantins', 'rubim', 'rosana', 'sete de setembro', 'itai', 'uniao dos palmares', 'camamu', 'itarantim', 'cocal do sul', 'inimutaba', 'cerro largo', 'ajuricaba', 'sandolandia', 'arcoverde', 'cantagalo', 'cerquilho', 'coxim', 'fazenda rio grande', 'campo belo', 'cajati', 'pariquera-acu', 'angelo frechiani', 'jardim alegre', 'cambara', 'pompeu', 'macaubas', 'hidreletrica tucurui', 'sirinhaem', 'alfredo vasconcelos', 'jeremoabo', 'ibiassuce', 'nazareno', 'caarapo', 'teutonia', 'rio casca', 'sao pedro da uniao', 'acailandia', 'grajau', 'reserva do cabacal', 'rio de contas', 'ribeirao cascalheira', 'capivari de baixo', 'natividade', 'witmarsum', 'ouro fino', 'ipubi', \"tanque d'arca\", 'padre carvalho', 'passagem franca', 'itapaci', 'rio verde', 'embu das artes', 'cristalina', 'pedro de toledo', 'cruz alta', 'canitar', 'mirinzal', 'baturite', 'pirai', 'joanopolis', 'paranavai', 'icaraima', 'sao francisco', 'campina grande do sul', 'antonina', 'sarapui', 'salto do itarare', 'assare', 'humildes', 'messias targino', 'nova santa rita', 'doutor mauricio cardoso', 'brasilandia de minas', 'vermelho novo', 'estancia', 'chapada do norte', 'tupi paulista', 'serio', 'dormentes', 'itapagipe', 'guapore', 'osasco', \"olho d'agua das cunhas\", 'paulista', 'papucaia', 'iacanga', 'moema', 'monteiropolis', 'santa fe de goias', 'santa fe', 'major porto', 'cristopolis', 'colonia vitoria', 'nossa senhora da gloria', 'rechan', 'muquem do sao francisco', 'dona euzebia', 'bom retiro do sul', 'santa teresa', 'joacaba', 'jau', 'sao geraldo da piedade', 'garibaldi', 'macambara', 'ilha de itamaraca', 'nova america', 'caico', 'itapoa', 'guidoval', 'santa isabel do para', 'pires ferreira', 'pien', 'cotia', 'brejo grande', 'resende', 'sao jose do cerrito', 'travesseiro', 'peixe', 'sidrolandia', 'caraguatatuba', 'tanhacu', 'piranguinho', 'alagoa', 'esperanca', 'sao joao dos patos', 'jeronimo monteiro', 'mutunopolis', 'nova araca', 'conchas', 'embu-guacu', 'medeiros', 'imbe', 'jacigua', 'piquerobi', 'agua nova', 'carai', 'joao alfredo', 'sete lagoas', 'vista alegre do alto', 'carlopolis', 'itau', 'redentora', 'garca', 'ribeirao branco', 'barro', 'esmeralda', 'urai', 'anhumas', 'sao miguel do cambui', 'adustina', 'esperantina', 'sao luis do paraitinga', 'arame', 'curral de cima', 'eugenio de castro', 'porto ferreira', 'cansancao', 'abatia', 'valenca', 'bom jesus do galho', 'santa rita do sapucai', 'pouso novo', 'sao luis de montes belos', 'novo cabrais', 'jiquirica', 'sao bento do sapucai', 'engenheiro passos', 'manoel ribas', 'pinhalao', 'ibaiti', 'tacuru', 'pontao', 'ituverava', 'irapuru', 'valparaiso de goias', 'gravatal', 'macambira', 'santa maria da vitoria', 'terra nova do norte', 'sanclerlandia', 'pereiras', 'chavantes', 'fernandopolis', 'concordia do para', 'junqueiropolis', 'rio formoso', 'siriji', 'caravelas', 'senador amaral', 'ferreiros', 'batatais', 'itupeva', 'teotonio vilela', 'maranhaozinho', 'santa rosa do sul', 'ponto do marambaia', 'andarai', 'sao raimundo nonato', 'rodeio bonito', 'monte alegre de minas', 'joaquim pires', 'franco da rocha', 'carlinda', 'sao joao del rei', 'jaguari', 'coqueiros do sul', 'constantina', 'carbonita', 'sao luis do curu', 'lins', 'rio pardo', 'atilio vivacqua', 'sao lourenco da mata', 'madre de deus de minas', 'mococa', 'sao geraldo', 'curiuva', 'xavantina', 'santana', 'arenapolis', 'cajobi', 'espirito santo do pinhal', 'jundiai', 'entre rios', 'parapua', 'frutuoso gomes', 'goiabeira', 'alexandrita', 'ibia', 'itu', 'taiuva', 'meridiano', 'cabo verde', 'sao francisco de paula', 'anta', 'purilandia', 'lajeado grande', 'pinhalzinho', 'mesquita', 'rio grande da serra', 'aruana', 'roca sales', 'rio das antas', 'rio manso', 'aruja', 'itaguaru', 'xique-xique', 'juiz de fora', 'cafeara', 'guapimirim', 'arapongas', 'batalha', 'mocajuba', 'tres forquilhas', 'itabatan', 'gameleira', 'corrego do ouro', 'ituacu', 'lucas do rio verde', 'taubate', 'barra', 'manhumirim', 'piumhi', 'apuarema', 'assuncao', 'camacho', 'canarana', 'forquilha', 'conceicao da ibitipoca', 'conceicao da feira', 'pendencias', 'cataguases', 'ibiai', 'poloni', 'jatoba', 'pinhais', 'carmo do rio claro', 'barra do bugres', 'cujubim', 'sao sebastiao do paraiba', 'divinolandia', 'general maynard', 'chorrocho', 'floresta', 'tobias barreto', 'sao francisco do conde', 'areia branca dos assis', 'andradina', 'guaraquecaba', 'alto sao joao', 'aurora do para', 'campos verdes', 'silva jardim', 'capistrano', 'cristalandia', 'inconfidentes', 'sao bernardo do campo', 'imigrante', 'campo novo do parecis', 'cajari', 'seberi', 'monte mor', 'nova lima', 'tiradentes do sul', 'aguas de santa barbara', 'passo fundo', 'satuba', 'godoy moreira', 'carire', 'divisa alegre', 'pocao', 'nova palma', 'itororo', 'reserva', 'apore', 'couto de magalhaes', 'terra roxa', 'seringueiras', 'andorinha', 'sao rafael', 'anage', 'piranga', 'upanema', 'macuco de minas', 'presidente medici', 'santo anastacio', 'ribeirao', 'cha grande', 'boa vista da aparecida', 'barra do jacare', 'jose de freitas', 'bossoroca', 'canoinhas', 'novo jardim', 'arroio trinta', 'vale do sol', 'guabiruba', 'tangara', 'perdoes', 'oscar bressane', 'diamantino', 'almas', 'feliz natal', 'crominia', 'torres', 'lagoa dourada', 'xaxim', 'espumoso', 'macatuba', 'agua clara', 'brodowski', 'paraju', 'arrozal', 'curitibanos', 'antonio carlos', 'rio novo', 'uruburetama', 'lavras da mangabeira', 'quarai', 'motuca', 'combinado', 'padre gonzales', 'itanhaem', 'coxilha', 'varzea da palma', 'bom jesus', 'nova ubirata', 'juara', 'pedrinhas paulista', 'buriticupu', 'serafina correa', 'ibitiuva', 'piracuruca', 'granja', 'mendes', 'cambe', 'formoso', 'itanhomi', 'valenca do piaui', 'acucena', 'corrente', 'mario campos', 'pongai', 'ocaucu', 'itumbiara', 'chacara', 'santa maria do para', 'sao sebastiao do rio verde', 'buriti do tocantins', 'elisiario', 'pitanga', 'cordeiro', 'cabedelo', 'irati', 'nova erechim', 'david canabarro', 'sombrio', 'santo antonio do aracangua', 'sao clemente', 'frecheirinha', 'salvador do sul', 'correntes', 'santa cecilia do pavao', 'alexandra', 'bom repouso', 'santaluz', 'itanhandu', 'santa gertrudes', 'itaguai', 'niquelandia', 'rio bonito', 'nova santa rosa', 'trindade do sul', 'laurentino', 'itapetinga', 'barra bonita', 'sao joaquim do monte', 'antonio cardoso', 'ubirajara', 'luziapolis', 'ponte nova', 'buritama', 'santa terezinha de itaipu', 'mar de espanha', 'itarare', 'palhoca', 'patrocinio do muriae', 'vinhedo', 'santa cruz', 'irape', 'aquiraz', 'corbelia', 'carmesia', 'paraguacu paulista', 'patos de minas', 'setubinha', 'virginopolis', 'ponta pora', 'comendador levy gasparian', 'irupi', 'joao monlevade', 'pedro velho', 'cafelandia', 'nova luzitania', 'itariri', 'itauba', 'brasilia', 'tucuma', 'sobralia', 'duque de caxias', 'bariri', 'livramento de nossa senhora', 'osvaldo cruz', 'aguas formosas', 'charrua', 'gentio do ouro', 'carmo de minas', 'abdon batista', 'franca', 'itamogi', 'rio do oeste', 'francisco morato', 'monte alegre de sergipe', 'barra do ribeiro', 'coaraci', 'rodelas', 'serrana', 'ruy barbosa', 'sao jose dos pinhais', 'cajueiro', 'caxingo', 'duere', 'ourilandia do norte', 'guarani das missoes', 'jaboticatubas', 'mussurepe', 'caldas', 'tucurui', 'sao cristovao', 'rio largo', 'ipiranga', 'pojuca', 'palmeira das missoes', 'ametista do sul', 'sao joaquim', 'irece', 'mombuca', 'itapuranga', 'salto', 'olimpia', 'penha', 'nova fatima', 'ajapi', 'itaporanga', 'itabuna', 'guaraciaba', 'bauru', 'morro da garca', 'miguelopolis', 'barrolandia', 'limoeiro', 'coreau', 'schroeder', 'aribice', 'simao pereira', 'ipe', 'itambacuri', 'chapadao do sul', 'umburatiba', 'conrado', 'murucupi', 'boquira', 'santa monica', 'cambiasca', 'cajamar', 'jardim', 'santana do sobrado', 'colombo', 'oliveira', 'barra do mendes', 'zacarias', 'inaciolandia', 'bodo', 'barra longa', \"lagoa d'anta\", 'inaja', 'jurema', 'goianinha', 'laranja da terra', 'cruzeiro do sul', 'piacabucu', 'matao', 'conceicao do mato dentro', 'santa filomena', 'alvarenga', 'varginha', 'petropolis', 'terenos', 'alagoinhas', 'ipero', 'parnaiba', 'barreira', 'lobato', 'sarzedo', 'cornelio procopio', 'sousa', 'brejetuba', 'tapera', 'sao bonifacio', 'espera feliz', 'belford roxo', 'itabaianinha', 'wenceslau braz', 'carandai', 'aurora', 'rondonopolis', 'grandes rios', 'vicentina', 'alvorada do norte', 'sape', 'santa terezinha', 'itaperucu', 'sao bento abade', 'paraibuna', 'mombaca', 'mercedes', 'itau de minas', 'lauro muller', 'rolim de moura', 'marilandia do sul', 'nova mutum', 'sao francisco do sul', 'guapirama', 'divinopolis do tocantins', 'brejoes', 'sao miguel do oeste', 'caiua', 'tanabi', 'palmopolis', 'belem', 'uruoca', 'teolandia', 'campo do brito', 'milagres', 'estrela do sul', 'carnaubais', 'olinda', 'maracaju', 'flores da cunha', 'campestre', 'salgueiro', 'agua doce do norte', 'carlos barbosa', 'alcantara', 'capao do cipo', 'boa ventura', 'mirassol', 'santa salete', 'bacaxa', 'icarai de minas', 'madre de deus', 'vespasiano correa', 'porto nacional', 'boa esperanca do iguacu', 'alem paraiba', 'rondon', 'sapiranga', 'sao miguel do guapore', 'rio brilhante', 'divino', 'palminopolis', 'nova independencia', 'erebango', 'chopinzinho', 'nova cantu', 'espigao alto do iguacu', 'gaspar', 'sao mamede', 'roncador', 'tapirai', 'sao miguel dos campos', 'porto dos gauchos', 'pindorama', 'conde', 'montes claros', 'campos dos goytacazes', 'patu', 'roseira', 'itajuba', 'dois corregos', 'sao mateus do sul', 'tombos', 'amelia rodrigues', 'janduis', 'ipaba', 'janiopolis', 'nova prata do iguacu', 'itueta', 'cumari', 'sao jose do ouro', 'cachoeira alta', 'narandiba', 'aramari', 'leopolis', 'catarina', 'campo do tenente', 'calmon', 'capao da canoa', 'sao domingos', 'mata', 'miguel calmon', 'timoteo', 'juruena', 'frei lagonegro', 'pianco', 'araputanga', 'ibatiba', 'toritama', 'itamari', 'ibotirama', 'moreno', 'cupira', 'ronda alta', 'senador firmino', 'congonhinhas', 'mineiros', 'caucaia', 'cacaulandia', 'alto santo', 'guassusse', 'agua branca', 'confresa', 'apora', 'sao felix do xingu', 'moncoes', 'campos do jordao', 'mangueirinha', 'itapiuna', 'matupa', 'bonfim', 'inacio martins', 'camacan', 'maringa', 'lavinia', 'guarai', 'piata', 'jupi', 'ribeirao vermelho', 'jaboti', 'manhuacu', 'ilha comprida', 'iaras', 'sanga puita', 'picui', 'tabapora', 'mamanguape', 'alto araguaia', 'ivai', 'buenos aires', 'criciuma', 'condado', 'aramina', 'corinto', 'monte castelo', 'ipojuca', 'planalto', 'deputado irapuan pinheiro', 'sao sebastiao da boa vista', 'bueno brandao', 'campina das missoes', 'caiana', 'itarana', 'itaguaje', 'miraguai', 'sao sebastiao da amoreira', 'agua preta', 'paranapua', 'sulina', 'vargem alegre', 'maripa', 'santo antonio de goias', 'marmeleiro', 'itaguacu', 'uruara', 'paulo frontin', 'campo grande do piaui', 'utinga', 'bonito', 'alvorada', 'maximiliano de almeida', 'bananeiras', 'colinas', 'silvano', 'pau brasil', 'santa mercedes', 'santo augusto', 'gloria de dourados', 'humaita', 'juatuba', 'anastacio', 'paracuru', 'nazario', 'confins', 'ibicare', 'campestre da serra', 'ressaquinha', 'dom pedro', 'santo antonio do amparo', 'atalaia', 'itapirapua paulista', 'itagiba', 'sao jose da laje', 'sao bento do sul', 'quatigua', 'carneirinho', 'aguas frias', 'mauriti', 'angicos', 'holambra ii', 'sao goncalo do amarante', 'gramado dos loureiros', 'pocao de pedras', 'canaa dos carajas', 'matinhos', 'martins soares', 'alambari', 'terra de areia', 'massape', 'toledo', 'matozinhos', 'ribeirao das neves', 'angatuba', 'aguas de lindoia', 'joselandia', 'ritapolis', 'vila nova do sul', 'uniao de minas', 'quipapa', 'cuiaba', 'pancas', 'tenente portela', 'munhoz de melo', 'colonia jordaozinho', 'terra rica', 'pugmil', 'balbinos', 'morro do ferro', 'itanhanga', 'ibema', 'francisco santos', 'arara', 'sao domingos do norte', 'orlandia', 'ipiranga de goias', 'sao jose do serido', 'visconde do rio branco', 'joao lisboa', 'paulo jacinto', 'cocal', 'gabriel monteiro', 'pedras altas', 'lamarao', 'assis', 'paraisopolis', 'matelandia', 'manaira', 'pium', 'senador jose porfirio', 'loanda', 'herculandia', 'urussanga', 'nova prata', 'iracemapolis', 'itaitinga', 'tres pontas', 'sao goncalo do rio das pedras', 'lagoa da confusao', 'cordeiropolis', 'coremas', 'campanha', 'tailandia', 'cosmopolis', 'sao jorge do oeste', 'vere', 'rio das flores', 'vereda', 'itapissuma', 'vila nova', 'pardinho', 'macaiba', 'lidice', 'mar vermelho', 'canhotinho', 'volta grande', 'nilopolis', 'quatro bocas', 'vicencia', 'grao mogol', 'curaca', 'mojui dos campos', 'afonso claudio', 'sao sebastiao da serra', 'pedro afonso', 'nova xavantina', 'goitacazes', 'jussari', 'teixeiras', 'anadia', 'varzea', 'senador la rocque', 'barreiros', 'buritizeiro', 'aparecida de goiania', 'sao pedro do iguacu', 'monte alto', 'queimadas', 'cubati', 'taquaritinga', 'pimenteiras', 'dom basilio', 'palmeiras de goias', 'ouro preto do oeste', 'taruma', 'bernardino de campos', 'piracema', 'riacho de santo antonio', 'mairinque', 'saloa', 'tocos', 'nova america da colina', 'fortaleza dos valos', 'japi', 'iacri', 'jacuizinho', 'solonopole', 'alto alegre', 'botelho', 'heliopolis', 'aracuai', 'cachoeira paulista', 'bom jesus da lapa', 'inga', 'campo maior', 'novo progresso', 'campo bom', 'campo alegre de lourdes', 'seropedica', 'estrela velha', 'tocos do moji', 'timbo', 'juripiranga', 'itamarandiba', 'feliz', 'aracatuba', 'una', 'alto rio novo', 'urucui', 'alcinopolis', 'epitaciolandia', 'teresina', 'palhano', 'serra', 'frederico westphalen', 'sardoa', 'chale', 'polo petroquimico de triunfo', 'reserva do iguacu', 'jardim de piranhas', 'mateus leme', 'lages', 'novo oriente de minas', 'chapadao do lageado', 'aracoiaba da serra', 'belmonte', 'abelardo luz', 'birigui', 'paulistana', 'balneario arroio do silva', 'santo amaro da imperatriz', 'anhandui', 'ascurra', 'vitoria', 'colorado do oeste', 'porto xavier', 'gandu', 'luiz alves', 'ipanema', 'sonora', 'treze tilias', 'novo repartimento', 'mangaratiba', 'lagoa dos tres cantos', 'carrancas', 'angustura', 'groairas', 'umuarama', 'planaltina', 'vilhena', 'passa tres', 'prata', 'arapei', 'tres cachoeiras', 'uniao da serra', 'ibitiara', 'sao lourenco do sul', 'ortigueira', 'trindade', 'candeal', 'ita', 'sao borja', 'rolandia', 'unai', 'conceicao do jacuipe', 'juruti', 'nonoai', 'santiago', 'pote', 'lencois', 'ibiraja', 'protasio alves', 'fazenda nova', 'passo de camaragibe', \"olho d'agua das flores\", 'portelandia', 'pirpirituba', 'torrinha', 'bebedouro', 'japaratuba', 'aratiba', 'marcelino vieira', 'caxias', 'arneiroz', 'sobradinho', 'alpercata', 'cianorte', 'palmital', 'caxias do sul', 'ibitioca', 'chorozinho', 'contagem', 'coronel joao sa', 'aguas da prata', 'coronel joao pessoa', 'ponto belo', 'pato branco', 'lagoa dos gatos', 'aguia branca', 'ijui', 'guaraniacu', 'alpinopolis', 'itambaraca', 'wanderley', 'angelica', 'gaviao peixoto', 'arataca', 'presidente venceslau', 'vicente dutra', 'abreu e lima', 'quilombo', 'primeiro de maio', 'jacinto', 'xinguara', 'saudades', 'sao jose do xingu', 'santo antonio de jesus', 'florestopolis', 'carmo da cachoeira', 'paraibano', 'luis correia', 'custodia', 'cruzilia', 'jaguarao', 'vazante', 'cachoeira', 'centenario', 'alta floresta', 'remanso', 'sao luis', 'itapolis', 'sao miguel do iguacu', 'sao joao da mata', 'queimados', 'ilha dos valadares', 'monte azul', 'alhandra', 'afogados da ingazeira', 'veranopolis', 'toropi', 'taboao da serra', 'eldorado', 'tacaratu', 'nova roma', 'chapeco', 'botelhos', 'bandeira do sul', 'bataypora', 'arealva', 'cacoal', 'quevedos', 'progresso', 'capela do alto alegre', 'londrina', 'rio negrinho', 'ourem', 'bias fortes', 'registro', 'arace', 'venturosa', 'jijoca de jericoacoara', 'realeza', 'salto do jacui', 'itaocara', 'cotriguacu', 'barros cassal', 'cruzeiro', 'varzelandia', 'itamira', 'astorga', 'sao joao do manhuacu', 'eunapolis', 'boqueirao do leao', 'riachao do jacuipe', 'urania', 'ibirite', 'materlandia', 'altinopolis', 'correntina', 'oroco', 'alto caparao', 'colorado', 'pirauba', 'cedral', 'maurilandia', 'nova olinda do maranhao', 'candido rodrigues', 'taua', 'candoi', 'arroio do meio', 'novo sao joaquim', 'palma sola', 'lagoao', \"alvorada d'oeste\", 'nortelandia', 'bertopolis', 'jardinopolis', 'estevao de araujo', 'chapadinha', 'sao tomas de aquino', 'caracol', 'coronel domingos soares', 'santos dumont', 'xanxere', 'erico cardoso', 'acegua', 'aracatu', 'carmolandia', 'marituba', 'castanheira', 'tiete', 'governador lindenberg', 'campo ere', 'inubia paulista', 'xexeu', 'camboriu', 'sao pedro da agua branca', 'sao carlos do ivai', 'frei rogerio', 'padre bernardo', 'monte formoso', 'barrocas', 'porto franco', 'bacabal', 'luz', 'santa izabel do oeste', 'pedro leopoldo', 'mae do rio', 'guaranesia', 'taquarivai', 'alfredo marcondes', 'sao miguel do anta', 'bandeirantes', 'santa rosa de viterbo', 'macae', 'bonito de santa fe', 'cruz', 'piedade de caratinga', 'tiros', 'coronel freitas', 'presidente tancredo neves', 'retirolandia', 'silveira carvalho', 'quatro pontes', 'nova granada', 'vanini', 'salgado filho', 'santa clara do sul', 'anita garibaldi', 'dom cavati', 'neopolis', 'anhembi', 'santana do araguaia', 'barbacena', 'solanea', 'guapiacu', 'macaparana', 'paraipaba', 'cascavel', 'sao mateus', 'fartura', 'xangri-la', 'pantano grande', 'dona francisca', 'itabi', 'santa ines', 'avanhandava', 'coroados', 'coite do noia', 'caratinga', 'fervedouro', 'alagoa nova', 'sao luiz do norte', 'campo alegre', 'itaquaquecetuba', 'antonio pereira', 'vila valerio', 'jaguaribe', 'muritiba', 'presidente castello branco', 'ibirarema', 'sao joao da ponte', 'boa vista do burica', 'ibitita', 'itapetininga', 'claudia', 'ipuiuna', 'pitangui', 'santa cruz das palmeiras', 'cachoeirinha', 'lapa', 'leandro ferreira', 'dianopolis', 'caetite', 'conceicao do para', 'california', 'barro alto', 'bom jardim', 'paulinia', 'chaveslandia', 'sao gabriel do oeste', 'capanema', 'ibirapua', 'maribondo', 'sao jose do divino', 'pocoes', \"pingo-d'agua\", 'rio paranaiba', 'pombal', 'cabixi', 'tabuleiro do norte', 'xapuri', 'campo verde', 'sao simao', 'bandeirantes do tocantins', 'jaguaribara', 'nova cruz', 'ouro verde de minas', 'caldeirao grande', 'monte carmelo', 'bataguassu', 'cambui', 'para de minas', 'jacuipe', 'carmo do cajuru', 'cristais paulista', 'matias olimpio', 'iacu', 'morro vermelho', 'simonesia', 'capela', 'general salgado', 'monte santo de minas', 'santa fe do sul', 'pureza', 'castanhal', 'jaraguari', 'jenipapo de minas', 'piau', 'balsas', 'saltinho', 'girau do ponciano', 'coronel fabriciano', 'paraopeba', 'celina', 'ceara-mirim', 'adrianopolis', 'arraias', 'vargem grande paulista', 'senador modestino goncalves', 'leopoldina', 'sabino', 'sao fidelis', 'valparaiso', 'santo andre', 'ibipitanga', 'marques de souza', 'imbau', 'estrela do norte', 'ouro verde', 'boquim', 'penaforte', 'tapinas', 'romelandia', 'paty do alferes', 'cristina', 'salinas da margarida', 'benevides', 'sao jose do norte', 'cosmorama', 'santa cruz de monte castelo', 'cachoeiras de macacu', 'sucesso', 'fraiburgo', 'nova veneza', 'alvorada do gurgueia', 'tecainda', 'votorantim', 'piacu', 'paranacity', 'pastos bons', 'campo largo', 'jaquirana', 'foz do jordao', 'santo antonio do planalto', 'coluna', 'segredo', 'candido de abreu', 'tres fronteiras', 'petrolandia', 'mutuipe', 'santa leopoldina', 'brasileia', 'acreuna', 'paraiso do sul', 'ouvidor', 'celso ramos', 'merces', 'palmas', 'engenheiro paulo de frontin', 'cravolandia', 'mairipotaba', 'milha', 'redencao do gurgueia', 'agrestina', 'lagoinha', 'belo vale', 'itiquira', 'agudos', 'guabiju', 'ceilandia', 'jose boiteux', 'ielmo marinho', 'caputira', \"mirassol d'oeste\", 'artur nogueira', 'limeira do oeste', 'abre campo', 'massaranduba', 'pacuja', 'lagoa do mato', 'regeneracao', 'werneck', 'desterro', 'conchal', 'adolfo', 'andrelandia', 'camocim de sao felix', 'nova resende', 'itaoca', 'bocaiuva do sul', 'maiquinique', 'sao goncalo do rio abaixo', 'araguatins', 'serra negra', 'feira nova', 'santo antonio', \"figueiropolis d'oeste\", 'guaracai', 'emilianopolis', 'missao velha', 'rio real', 'tapejara', 'rodeiro', 'presidente kennedy', 'gloria do goita', 'chaval', 'santa rita', 'guara', 'itabira', 'pilar', 'quedas do iguacu', 'getulina', 'santa maria de jetiba', 'goncalves dias', 'malhador', 'francisco sa', 'dois vizinhos', 'jaborandi', 'sao leopoldo', 'horizontina', 'diamante do norte', 'tuparece', 'sao jose de uba', 'vargem', 'pecanha', 'aracitaba', 'palmeiras', 'clevelandia', 'sao jose da vitoria', 'soledade', 'queiroz', 'santa rita do araguaia', 'perdigao', 'bugre', 'diamantina', 'lucelia', 'capivari', 'ipiacu', 'laranjal paulista', 'mari', 'alterosa', 'magda', 'novo itacolomi', 'rosario', 'bonito de minas', 'itapui', 'santo antonio da alegria', 'aguas belas', 'bananal', \"diamante d'oeste\", 'tramandai', 'coracao de maria', 'campanario', 'parisi', 'guacui', 'mandirituba', 'taquarana', 'vitoria do mearim', 'miravania', 'monte alverne', 'lutecia', 'sideropolis', 'sao joao da boa vista', 'engenheiro balduino', 'sao jorge do patrocinio', 'itaituba', 'jaru', 'minas novas', 'anguera', 'santa cruz do rio pardo', 'piedade dos gerais', 'taquaracu de minas', 'paial', 'sao joao do oriente', 'magalhaes de almeida', 'campo alegre do fidalgo', 'santa rita do ibitipoca', 'taquara', 'varjao de minas', 'ipecaeta', 'santo antonio do leste', 'vassouras', 'laje do muriae', 'tucunduva', 'nova padua', 'pinhao', 'maquine', 'presidente janio quadros', 'itapevi', 'dois irmaos do buriti', 'buritis', 'piraju', 'ribeiro junqueira', 'rio rufino', 'tupaciguara', 'rio bonito do iguacu', 'guarara', 'sao joao evangelista', 'pato bragado', 'saboeiro', 'luis eduardo magalhaes', 'santana do ipanema', 'jardim abc de goias', 'barra de sao miguel', 'uibai', 'tururu', 'nova canaa do norte', 'ibiracu', 'filadelfia', 'ipaporanga', 'araponga', 'fontoura xavier', 'mendonca', 'ribeiraozinho', 'sao patricio', 'tunapolis', 'descoberto', 'santa adelia', 'pedra lavrada', 'jaci', 'ilhabela', 'fonseca', 'machadinho', 'cariacica', 'guaratinga', 'penedo', 'viana', 'santana do paraiso', 'ibate', 'nova brescia', 'olindina', 'euclides da cunha paulista', 'joao dourado', 'cristal', 'tocantinopolis', 'sales', 'linhares', 'sao bento', 'formosa da serra negra', 'sento se', 'barra da estiva', 'itirapina', 'rio tinto', 'sao sebastiao do paraiso', 'picada cafe', 'sapucaia do sul', 'teresina de goias', 'araruama', 'raul soares', 'bonfinopolis de minas', 'cidreira', 'ananas', 'alto jequitiba', 'buriti alegre', 'conceicao da aparecida', 'nucleo residencial pilar', 'vespasiano', 'zortea', 'gravatai', 'santana do acarau', 'boa esperanca', 'navegantes', 'pains', \"sao joao d'alianca\", 'coelho neto', 'pindoretama', 'capim branco', 'vieiras', 'sao francisco do gloria', 'parelhas', 'arapiraca', 'lagoa formosa', 'ampere', 'paranatinga', 'vicosa do ceara', 'gravata', 'angulo', 'belo oriente', 'jacupiranga', 'francisco beltrao', 'alvares machado', 'ipiranga do norte', 'taperuaba', 'jari', 'aluminio', 'varzea grande', 'uniao do oeste', 'caem', 'sao domingos do prata', 'alto parana', 'serrania', 'mara rosa', 'sebastiao leal', 'nova petropolis', 'crisopolis', 'encantado', 'betim', 'trairi', 'taparuba', 'isaias coelho', 'caseiros', 'alianca', 'aparecida', 'turvolandia', 'ciriaco', 'siqueira campos', 'campina do monte alegre', 'formosa do oeste', 'espirito santo do turvo', 'itaju do colonia', 'manoel urbano', 'cachoeira do sul', 'espinosa', 'tangua', 'dom silverio', 'sabaudia', 'campos belos', 'maria da fe', 'guaruja', 'itirucu', 'riachao das neves', 'brejo do cruz', 'passagem', 'colmeia', 'nova londrina', 'guiricema', 'sao joao de pirabas', 'rio do sul', 'santo amaro', 'riacho de santana', 'tamandare', 'guarabira', 'mambore', 'sarandi', 'porto rico', 'carmo do rio verde', 'campinas do sul', 'fernao', 'severinia', 'altonia', 'santa helena de minas', 'vitorino', 'apodi', 'delfim moreira', 'teixeira de freitas', 'lagoinha do piaui', 'lagoa do piaui', 'bom conselho', 'delfinopolis', 'palmitos', 'montenegro', 'lindoia do sul', 'sao jose do goiabal', 'poxoreu', 'oeiras do para', 'santa cruz do sul', 'buriti dos lopes', 'ubaitaba', 'araguaina', 'canapolis', 'jaragua do sul', 'sao roque', 'jeceaba', 'paulino neves', 'morro agudo', 'iramaia', 'iguaba grande', 'santana do deserto', 'peixoto de azevedo', 'avare', 'santa quiteria', 'ubatuba', 'sao jose do vale do rio preto', 'capitao andrade', 'itobi', 'orizania', 'rio azul', 'sao jose do barreiro', 'varzea nova', 'tres rios', 'floresta do araguaia', 'alto paraiso de goias', 'quixada', 'pindorama do tocantins', 'sao miguel do gostoso', 'jaiba', 'arari', 'ibicuitinga', 'ipiabas', 'palmeira d oeste', 'sao domingos do maranhao', 'loreto', 'tuiuti', 'salto da divisa', 'guaiuba', 'santo antonio do pinhal', 'dezesseis de novembro', 'governador mangabeira', 'dom eliseu', 'monte alegre', 'alto horizonte', 'santa maria madalena', 'bom jesus do norte', 'jundiai do sul', 'francisco badaro', 'rio das pedras', 'nova serrana', 'mamonas', 'bastos', 'areiopolis', 'urandi', 'jequie', 'ouro branco', 'angra dos reis', 'jequitai', 'balneario camboriu', 'sao vitor', 'piratini', 'casa branca', 'general carneiro', 'ilhota', 'itabirinha', 'santo antonio do itambe', 'camaragibe', 'engenheiro coelho', 'cananeia', 'capao do leao', 'sinimbu', 'ze doca', 'itaipulandia', 'inhauma', 'coronel murta', 'sanharo', 'jaguarembe', 'turmalina', 'carmo da mata', 'euclides da cunha', 'barra de sao francisco', 'marco', 'itarema', 'taboquinhas', 'caceres', 'manduri', 'monte verde', 'machado', 'rodolfo fernandes', 'santo antonio do leverger', 'sao ludgero', 'acopiara', 'baixa grande do ribeiro', 'patrocinio', 'ubaporanga', 'virginia', 'sucupira do norte', 'aguas de sao pedro', 'doverlandia', 'guanhaes', 'nova floresta', 'vila rica', 'paineiras', 'alvares florence', 'santa cecilia', 'santana do capivari', 'guaicara', 'pinheiral', 'crissiumal', 'catanduvas', 'altamira', 'montividiu do norte', 'morretes', 'rianapolis', 'presidente nereu', 'poco redondo', 'taio', 'bom despacho', 'pindobacu', 'tres barras', 'sericita', 'aroeiras', 'romaria', 'cabeceira grande', 'ecoporanga', 'unistalda', 'serranopolis', 'capivari do sul', 'jose da penha', 'paraiso das aguas', 'aiuruoca', 'eloi mendes', 'igarapava', 'uruana de minas', 'sertania', 'panorama', 'nhandeara', 'governador celso ramos', 'ouricuri', 'paranhos', 'felisburgo', 'jacaraci', 'urucurituba', 'santo expedito do sul', 'cajuri', 'ipumirim', 'abaete', 'itaguari', 'banzae', 'baixa grande', 'saudade do iguacu', 'verissimo', 'nuporanga', 'candido mendes', 'coimbra', 'nova olimpia', 'britania', 'ingai', 'pocinhos', 'santa barbara', 'conquista', 'porto acre', 'sao romao', \"itaporanga d'ajuda\", 'alagoa grande', 'murutinga do sul', 'parauapebas', 'farol', 'itajobi', 'quata', 'mairi', 'aragarcas', 'guinda', 'nova santa barbara', 'sao sebastiao do passe', 'pedra branca', 'japaraiba', 'amontada', 'barra velha', 'esplanada', 'sertao santana', 'monnerat', 'montezuma', 'simoes filho', 'ibicarai', 'nova esperanca do piria', 'lagoa da prata', 'araraquara', 'santa cruz de salinas', 'raposo', 'conceicao', 'armazem', 'andradas', 'mato leitao', 'aratuba', 'americo brasiliense', 'buriti', 'gongogi', 'guape', 'buenopolis', 'lagoa grande', 'governador dix-sept rosado', 'pedro canario', 'deodapolis', 'dom joaquim', 'ibitinga', 'fatima do sul', 'apuiares', 'bom jesus do amparo', 'santo estevao', 'cedro do abaete', 'holambra', 'goianira', 'guarani', 'camapua', 'sapucaia', 'camutanga', 'guimaraes', 'boca da mata', 'carazinho', 'porto firme', 'sao francisco do guapore', 'arceburgo', 'areia branca', 'rancharia', 'pirajuba', 'borborema', 'ibirataia', 'campo grande', 'presidente dutra', 'chiapetta', 'macuco', 'avelino lopes', 'martinho campos', 'paranaiba', 'corumbatai do sul', 'ouro', 'sao vendelino', 'jaqueira', 'castelandia', 'botuvera', 'brasopolis', 'natividade da serra', 'tremembe', 'crato', 'ponto novo', 'sao miguel das matas', 'entre rios de minas', 'aguas claras', 'fundao', 'sao jorge', 'medeiros neto', 'morada nova', 'maceio', 'alexania', 'bom jesus do querendo', 'baependi', 'uaua', 'cidade ocidental', 'imbituba', 'aimores', 'rubiataba', 'orizona', 'areado', 'vitoria de santo antao', 'santa luzia', 'sete barras', 'prudencio thomaz', 'quatis', 'sao domingos das dores', 'salto do ceu', 'dores de guanhaes', 'passos', 'taguatinga', 'cocos', 'santo antonio do taua', 'frei inocencio', 'novo cruzeiro', 'casa nova', 'perpetuo socorro', 'guaraci', 'brasilandia', 'paicandu', 'sao gotardo', 'igarape-acu', 'itaparica', 'francisco dantas', 'videira', 'conceicao do araguaia', 'barracao', 'sao pedro do ivai', 'icara', 'butia', 'sobral', 'dourado', 'ponte serrada', 'fronteira', 'condor', 'aparecida do rio negro', 'frei martinho', 'urucania', 'fazenda vilanova', 'mucurici', 'paranapoema', 'mallet', 'minacu', 'santa cruz de minas', 'puxinana', 'redencao', 'brauna', 'areial', 'planaltino', 'claro dos pocoes', 'datas', 'barra de santa rosa', 'icem', 'novo planalto', \"itapejara d'oeste\", 'alexandria', 'sao jose do piaui', 'sao martinho', 'cacule', 'machacalis', 'salinas', 'itamonte', 'florida paulista', 'santo antonio das queimadas', 'selbach', 'santo antonio do jardim', 'jauru', 'lebon regis', 'pacaembu', 'eliseu martins', 'suzano', 'juazeiro do norte', 'lindoia', 'ibiuna', 'antonio prado', 'santa juliana', 'martinesia', 'bom jardim de goias', 'maragogipe', 'rio branco', 'araripe', 'capelinha', 'mariental', 'pauliceia', 'coribe', 'quadra', 'igaracu do tiete', 'itaborai', 'alvaro de carvalho', 'sapopema', 'lourdes', 'novo oriente do piaui', 'teofilo otoni', 'teresopolis', 'ilheus', 'santa vitoria', 'abaetetuba', 'caninde', 'sao roque do canaa', 'igrapiuna', 'monte belo do sul', 'apiuna', 'capao da porteira', 'planaltina de goias', 'pocrane', 'domingos martins', 'mata grande', 'campinas', 'iguatu', 'arraial d ajuda', 'moreira sales', 'jucurutu', 'posse', 'santa helena de goias', 'dom feliciano', 'sao jeronimo', 'sao joao do triunfo', 'itapipoca', 'formoso do araguaia', 'macedonia', 'nova venecia', 'ipaussu', 'itaja', 'pelotas', 'ilha solteira', 'quitandinha', 'cabrobo', 'monte gordo', 'tiradentes', 'areia', 'arroio do tigre', 'rosario do ivai', 'pareci novo', 'faxinal', 'quixelo', 'cassia dos coqueiros', 'arantina', 'estrela do indaia', 'anitapolis', 'tubarao', 'sume', 'araguari', 'americana', 'agua boa', 'pedro gomes', 'dom aquino', 'iracema', 'presidente lucena', 'jamapara', 'patos', 'cristiano otoni', 'sao francisco do humaita', 'tres coroas', 'fagundes', 'varzea paulista', 'pitanga de estrada', 'valentim gentil', 'murici', 'pedrinopolis', 'vitorino freire', 'apucarana', 'ivate', 'bom jardim de minas', 'ibiruba', 'salesopolis', 'jandaia', 'valao do barro', 'sao francisco do brejao', 'piranhas', 'comodoro', 'alto taquari', 'itanhem', 'satiro dias', 'chapada gaucha', 'flor da serra do sul', 'abaiara', 'campos borges', 'centralina', 'augusto pestana', 'alegria', 'tapiramuta', 'damianopolis', 'corumbaiba', 'sitio do quinto', 'major vieira', 'mongagua', 'alvinopolis', 'aracaju', 'sao jose de ribamar', 'pomerode', 'augusto correa', 'caete', 'porto amazonas', 'bilac', 'pitangueiras', 'pirangi', 'guia lopes da laguna', 'cruzeiro do oeste', 'aracati', 'firminopolis', 'sarutaia', 'simplicio mendes', 'placas', 'governador portela', 'agisse', 'bezerros', 'japuiba', 'taiacu', 'aracariguama', 'sao miguel arcanjo', 'pindare mirim', 'livramento', 'saquarema', 'bocaiuva', 'traipu', 'grao para', 'xambre', 'maragogi', 'berilo', 'vianopolis', 'ibarama', 'cacapava', 'poa', 'abrantes', 'acari', 'juranda', 'almenara', 'formigueiro', 'campo azul', 'jequitiba', 'iomere', 'raposos', 'jordania', 'monte aprazivel', 'ituiutaba', 'braganca paulista', 'nova olinda', 'andrequice', 'sao francisco de itabapoana', 'cruz machado', 'centenario do sul', 'desembargador otoni', 'parnamirim', 'pedregulho', 'paripueira', 'itamaraju', 'ivoti', 'sapeacu', 'santo amaro de campos', 'goianesia do para', 'picos', 'juquitiba', 'nova iguacu', 'alto parnaiba', 'alfredo chaves', 'sambaiba', 'barro preto', 'balneario gaivota', 'cachoeira dourada', 'lamim', 'charqueadas', 'nossa senhora das dores', 'trancoso', 'limeira', 'porto grande', 'apiacas', 'fatima', 'lagoa real', 'itaicaba', 'sao sebastiao do cai', 'onda verde', 'palmeira', 'jose bonifacio', 'sao joao', 'tres arroios', 'lorena', 'sao joao do sobrado', 'itatiaia', 'imaculada', 'morro redondo', 'sangao', 'arapoti', 'rio bananal', 'pirapetinga', 'nossa senhora do o', 'mimoso do sul', 'ibiara', 'sao luis do quitunde', 'divino de sao lourenco', 'aparecida de monte alto', 'pires do rio', 'maraba', 'vitoria das missoes', 'jeriquara', 'ferraz de vasconcelos', 'cerro azul', 'rincao', 'cangucu', 'ibipeba', 'tupa', 'irai', 'ceu azul', 'jequia da praia', 'santo antonio de posse', 'porto estrela', 'condeuba', 'guararapes', 'votuporanga', 'andira', 'xambioa', 'coronel macedo', 'novo horizonte', 'flores de goias', 'mato rico', \"estrela d'oeste\", 'ribeira', 'vitoria da conquista', 'belem do sao francisco', 'barao', 'pintadas', 'analandia', 'coari', 'surubim', 'catole do rocha', 'boa vista do sul', 'ichu', 'patrocinio paulista', 'monte siao', 'lavras do sul', 'jacobina', 'desterro do melo', 'virgolandia', 'claraval', 'muriae', 'matrincha', 'campo alegre de goias', 'aracruz', 'rio branco do sul', 'santa maria de itabira', 'santa rita de caldas', 'cristinapolis', 'santa cruz do timbo', 'careacu', 'tambau', 'serra talhada', 'cachoeira de minas', 'catigua', 'queluz', 'sao jose do inhacora', 'joaquim nabuco', 'breves', 'cabeceiras', 'felipe guerra', 'nova laranjeiras', 'palmares do sul', 'cachoeiro de itapemirim', 'japeri', 'marinopolis', 'bento de abreu', 'alfenas', 'riacho das almas', 'quixabeira', 'pedra azul', 'caxambu do sul', 'adhemar de barros', 'fruta de leite', 'bonfim paulista', 'sao joao da barra', 'cuite', 'mata roma', 'caldas brandao', 'laranjeiras do sul', 'itapicuru', 'porto calvo', 'sao pedro do turvo', 'vertentes', 'camocim', 'mozarlandia', 'nova alvorada', 'areias', 'sao gabriel da palha', 'serrolandia', 'biritiba-mirim', 'fernando prestes', \"arraial d'ajuda\", 'belo horizonte', 'caraubas', 'itapiranga', 'ibipora', 'barao de juparana', 'jaua', 'medina', 'mata de sao joao', 'trabiju', 'barrinha', 'marilandia', 'olaria', 'erere', 'sao miguel do araguaia', 'paramirim', 'indiara', 'goiandira', 'divinolandia de minas', 'taiobeiras', 'meleiro', 'pedranopolis', 'sao bras do suacui', 'terra boa', 'anaurilandia', 'conceicao das pedras', 'tarumirim', 'parai', 'praia grande', 'sao paulo do potengi', 'joao pessoa', 'cocalinho', 'camanducaia', 'cruzalia', 'itajuipe', 'itapetim', 'curvelo', 'timon', 'guapiara', 'porciuncula', 'sao felipe', 'querencia do norte', 'silvania', 'juvenilia', 'castelo do piaui', 'serra de sao bento', 'jacarau', 'campina grande', 'santo antonio do grama', 'santana dos montes', 'araquari', 'lucena', 'bequimao', 'elisio medrado', 'santo antonio do jacinto', 'itaueira', 'penapolis', 'potiragua', 'senges', 'sao vicente', 'palmares', 'braco do rio', 'pilar do sul', 'carpina', 'urbano santos', 'pontes e lacerda', 'sao joao do ivai', 'bertioga', 'cruzeiro do iguacu', 'alto alegre do pindare', 'umburanas', 'sertanopolis', 'tuparetama', 'caetes', 'chapada', 'pederneiras', 'estacao', 'reriutaba', 'parambu', 'jamaica', 'teixeira soares', 'monteiro lobato', 'iraquara', 'sao sebastiao do alto', 'pranchita', 'santo cristo', 'serra branca', 'santa albertina', 'almirante tamandare', 'urupa', 'monsenhor tabosa', 'pedralva', 'mato verde', 'jandaira', 'doutor ulysses', 'oros', 'oliveira dos brejinhos', 'ipueira', 'sumidouro', 'caibi', 'ipua', 'orindiuva', 'itaju', 'paraiso do norte', 'castanheiras', 'parobe', 'bertolinia', 'manga', 'sapezal', 'campos de julio', 'garopaba', 'alto alegre do maranhao', 'itaguara', 'varzea alegre', 'nossa senhora de caravaggio', 'joinville', 'ministro andreazza', 'costa marques', 'biguacu', 'porecatu', 'paula candido', 'mossamedes', \"herval d'oeste\", 'luizlandia do oeste', 'piuma', 'esperantinopolis', 'sao goncalo', 'alto boa vista', 'iuna', 'guarapuava', 'santa margarida', \"sao jorge d'oeste\", 'itajai', 'uba', 'campo novo', 'borda da mata', 'japura', 'tangara da serra', 'goiana', 'guarapua', 'nova canaa', 'tatui', 'piripa', 'tomazina', \"nova brasilandia d'oeste\", 'itambe', 'piracaia', 'florinia', 'alianca do tocantins', 'goiatuba', 'caruaru', 'sao luiz gonzaga', 'santo amaro das brotas', 'entre folhas', 'lauro de freitas', 'pompeia', 'lencois paulista', 'jacare', 'timbauba', 'rio fortuna', 'santo angelo', 'anta gorda', 'ipupiara', 'uniao da vitoria', 'seara', 'sao joaquim de bicas', 'icapui', 'nova andradina', 'montauri', 'aquidauana', 'barra mansa', 'calcado', 'corguinho', 'horizonte', 'osvaldo kroeff', 'foz do iguacu', 'pirambu', 'cavalcante', 'tarabai', 'reboucas', 'guariba', 'astolfo dutra', 'ilopolis', 'nossa senhora de lourdes', 'lagoa', 'roque gonzales', 'victor graeff', 'santa cruz cabralia', 'joao ramalho', 'urucuca', 'esmeraldas', 'eldorado do sul', 'nova esperanca do sul', 'valente', 'marica', 'crateus', 'bom sucesso', 'cardoso', 'nova ponte', 'laranjal do jari', 'abadiania', 'espigao', 'rubelita', 'sao francisco de assis', 'buri', 'uruguaiana', 'bela vista de minas', 'minduri', 'princesa isabel', 'angical', 'remigio', 'sitio novo', 'ourizona', 'mampituba', 'vila nelita', 'rio grande', 'ananindeua', 'campinapolis', 'quixere', 'sao cristovao do sul', 'pirenopolis', 'sao joao do itaperiu', 'santana do livramento', 'presidente alves', 'boa vista do cadeado', 'alto do rodrigues', 'jaragua', \"mae d'agua\", 'santo antonio da patrulha', 'rolante', 'itinga', 'chui', 'andre da rocha', 'rifaina', 'caldas novas', 'amaraji', 'aguas vermelhas', 'sao jose da boa vista', 'pontes gestal', 'recreio', 'vila dos cabanos', 'augustinopolis', 'crixas', 'ituporanga', 'novo hamburgo', 'itapitanga', 'governador valadares', 'lago verde', 'codo', 'piracanjuba', 'lima duarte', 'araguacu', 'sao goncalo do abaete', 'coroaci', 'ibimirim', 'conceicao do rio verde', 'passa quatro', 'bodoco', 'jesupolis', 'garanhuns', 'populina', 'corumba de goias', 'getulio vargas', 'satubinha', 'bage', 'luminarias', 'perobal', 'novo machado', 'aperibe', 'iraucuba', 'garuva', 'rio do campo', 'itabela', 'araripina', 'nova ipixuna', 'carajas', 'alegre', 'itaqui', 'engenheiro navarro', 'caconde', 'sao jose do campestre', 'brejo', 'banabuiu', 'itape', 'brejo da madre de deus', 'itapecerica da serra', 'riacho da cruz', 'tabatinga', 'itapaje', 'paulistania', 'silvanopolis', 'nova lacerda', 'salto do lontra', 'estreito', 'santo antonio da platina', 'leme', 'almino afonso', 'marcos parente', 'riachinho', 'uirauna', 'bela vista de goias', 'conselheiro mairinck', 'santa rita de jacutinga', 'castro alves', 'irapua', 'sacra familia do tingua', 'curitiba', 'senador cortes', 'maua da serra', 'sao roque de minas', 'dumont', 'armacao dos buzios', 'tucano', 'balsamo', 'lindolfo collor', 'itacarambi', 'pedra menina', 'coruripe', 'entre rios do oeste', 'nao-me-toque', 'bom principio', 'aguai', 'porangaba', 'maracas', 'inhumas', 'triunfo', 'sao miguel do tapuio', 'miguel pereira', 'sao desiderio', 'ivora', 'iretama', 'pavao', 'amargosa', 'brasilia de minas', 'morada nova de minas', 'santo hipolito', 'pedro ii', 'altos', 'itabirito', 'sao lourenco do oeste', 'divisa nova', 'quixeramobim', 'buritirama', 'america dourada', 'cedro de sao joao', 'santa cruz de goias', 'sabinopolis', 'atibaia', 'pirapora do bom jesus', 'itapeva', 'minas do leao', 'jequeri', 'iguaracu', 'louveira', 'carapebus', 'araci', 'gouveia', 'teixeira', 'sao lourenco', 'bom jesus das selvas', 'guamare', 'trajano de moraes', 'pacatuba', 'caldeirao grande do piaui', 'barra do garcas', 'paiva', 'mirandiba', 'estrela', 'nossa senhora do socorro', 'dores do indaia', 'piripiri', 'nantes', 'arraial do cabo', 'lajeado', 'itatim', 'telha', 'jampruca', 'mariana', 'ipaumirim', 'miraima', 'serra bonita', 'sao jose da barra', 'sao pedro', 'treviso', 'pirapemas', 'sao goncalo do rio preto', 'palestina', 'riversul', 'santa ernestina', 'malacacheta', 'joaquim tavora', 'ribeirao claro', 'angelina', 'casca', 'ouro preto', 'espigao do oeste', 'sao benedito do rio preto', 'sao bernardo', 'sao gabriel', 'conceicao da barra', 'rondon do para', 'santo antonio das missoes', 'itapecuru mirim', 'bela vista', 'pombos', 'taquarituba', 'venda branca', 'senador guiomard', 'itapecerica', 'vila flores', 'capetinga', 'julio de castilhos', 'sao jose do calcado', 'junqueiro', 'aurilandia', 'coronel pacheco', 'renascenca', 'centro novo do maranhao', 'extremoz', 'lambari', 'santana da boa vista', 'barra do turvo', 'ferros', 'jatai', \"santa rita d'oeste\", 'aguas mornas', 'timburi', 'amparo', 'conservatoria', 'socorro', 'patis', 'rio doce', 'alpestre', 'teodoro sampaio', 'tijucas', 'bonfinopolis', 'conceicao dos ouros', 'capinopolis', 'jaboatao dos guararapes', 'corumbatai', 'nossa senhora do remedio', 'iconha', 'alto bela vista', 'ipora', 'marilac', 'balneario rincao', 'brazopolis', 'araguana', 'sao tiago', 'bela cruz', 'sao jose do rio preto', 'ji-parana', 'bocaina', 'pilao arcado', 'araguaia', 'serra dos dourados', 'ubajara', 'jequitinhonha', 'maracai', 'ladainha', 'quirinopolis', 'antonio prado de minas', 'pitimbu', 'igarata', 'guaira', 'santa maria da boa vista', 'pimenta bueno', 'dom macedo costa', 'gramado xavier', 'goianorte', 'jatauba', 'sao felix do araguaia', 'inhuma', 'apiaca', 'jesuitas', 'arapora', 'tavares', 'morro reuter', 'hulha negra', 'piquete', 'porteiras', 'inhapim', 'dias d avila', 'santo antonio do canaa', 'cidade gaucha', 'paranagua', 'santana do jacare', 'sao bento do una', 'borrazopolis', 'itubera', 'araucaria', 'alegrete', 'vale real', 'luzilandia', 'eusebio', 'bom jesus do tocantins', 'cha de alegria', 'afranio', 'cacimbinhas', 'lagoa de velhos', 'osorio', 'estiva', 'tres lagoas', 'altinho', 'miradouro', 'vera', 'caetanos', 'vila flor', 'jaciara', 'florania', 'jaguaracu', 'sao jose da coroa grande', 'indiapora', 'sorriso', 'uberlandia', 'sao manuel', 'santo antonio do descoberto', 'morro do chapeu', 'pinheiro machado', 'primavera do leste', \"conquista d'oeste\", 'dionisio', 'santa isabel', 'matias barbosa', 'general camara', 'nova boa vista', 'maioba', 'rio do antonio', 'rio preto', 'morrinhos', 'carapicuiba', 'nova bassano', 'itapirapua', 'mariapolis', 'sao joao de iracema', 'bambui', 'morro grande', 'antunes', 'beberibe', 'colatina', 'santa rita de minas', 'monte santo', 'cacu', 'novo barreiro', 'cabo de santo agostinho', 'jardim olinda', 'nova friburgo', 'sao paulo das missoes', 'pesqueira', 'campina verde', 'corumba', 'sao thome das letras', 'castilho', 'cerro grande', 'duartina', 'brasil novo', 'sao felix', 'restinga seca', 'pradopolis', 'marechal deodoro', 'sao sebastiao do maranhao', 'pio ix', 'sao miguel do aleixo', 'acajutiba', 'indaiatuba', 'itapage', 'igaratinga', 'serranopolis do iguacu', 'mandaguari', 'paracatu', 'maracacume', 'jaboticabal', 'denise', 'santana do serido', 'muzambinho', 'guanambi', 'urupes', 'varre-sai', 'avelar', 'sao benedito', 'vila bela da santissima trindade', 'iapu', 'campo do meio', 'caicara do norte', 'itacare', 'indiaroba', 'lagoa dos patos', 'jacarei', 'praia norte', 'santarem', 'carvalhopolis', 'amapora', 'saude', 'lagoa da canoa', 'barreirinhas', 'jacui', 'umbauba', 'caraibas', 'cravinhos', 'rio dos cedros', 'carius', 'belo campo', 'ipatinga', 'mambai', 'santa rosa de lima', 'seabra', 'lucianopolis', 'salmourao', 'baguari', 'candido godoi', 'domiciano ribeiro', 'cairu', 'capitolio', 'cabralia paulista', 'imperatriz', 'ladario', 'graccho cardoso', 'ibiaca', 'jaguapita', 'guaratuba', 'cabaceiras do paraguacu', 'prados', 'mogi-guacu', 'florida', 'barreiras', 'brejolandia', 'medianeira', 'tracunhaem', 'felicio dos santos', 'palma', 'jandaia do sul', 'mantena', 'mandaguacu', 'tenente ananias', 'bayeux', 'jacinto machado', 'luiziania', 'regente feijo', 'sertao', 'goianapolis', 'colonia castrolanda', 'matriz de camaragibe', 'nova odessa', 'peri mirim', 'crucilandia', 'pirassununga', 'mirante do paranapanema', 'araguapaz', 'itapemirim', 'ariranha', 'santa cruz do capibaribe', 'conceicao do coite', 'santa cruz da conceicao', 'paco do lumiar', 'paripiranga', 'dores de campos', 'pedreira', 'santo antonio do monte', 'niteroi', 'cambara do sul', 'quatro barras', 'formiga', 'jaguariaiva', 'assai', 'tamboara', 'nova esperanca', 'capela do alto', 'presidente kubitschek', 'porto esperidiao', 'hidrolina', 'mirante da serra', 'campinacu', 'ribeirao pires', 'pacaja', 'petrolina', 'felixlandia', 'laguna', 'aragoiania', 'canto do buriti', 'morro de sao paulo', 'ribeira do amparo', 'natercia', 'palmares paulista', 'luisburgo', 'porto lucena', 'boa esperanca do sul', 'ribeirao bonito', 'cardoso moreira', 'braganca', 'piratuba', 'amapa do maranhao', 'douradina', 'congonhas', 'sao benedito do sul', 'ipu', 'caraiba', 'santa vitoria do palmar', 'flora rica', 'sao joao da urtiga', 'indiana', 'vitoria do jari', 'vargem grande', 'camaqua', 'juquia', 'piedade do rio grande', 'jambeiro', 'cascalho rico', 'serrinha', 'igaci', 'ibitira', 'caldas do jorro', 'floriano', 'aparecida de sao manuel', 'santa branca', 'florai', 'inocencia', 'pindoba', 'viseu', 'santa rosa', 'vargem alta', 'cunha pora', 'uniao', 'presidente epitacio', 'crisolita', 'durande', 'mariano moro', 'monsenhor paulo', 'serra azul', 'ipora do oeste', 'jesuania', 'santa maria do suacui', 'charqueada', 'igrejinha', 'araxa', 'colniza', 'mafra', 'cerrito', 'sorocaba', 'arroio do sal', 'machados', 'florestal', 'santana do cariri', 'vargem grande do sul', 'senhora de oliveira', 'riolandia', 'rio espera', 'brusque', 'paulo afonso', 'colombia', 'santa isabel do ivai', 'campo florido', 'sao sebastiao', 'itaipava', 'imbuia', 'maristela', 'barao de cocais', 'salvador', 'engenheiro beltrao', 'rio do pires', 'alto garcas', 'mundo novo', 'ouro verde de goias', 'tapurah', 'itaquitinga', 'lajinha', 'glorinha', 'sao jose do ribeirao', 'brejo dos santos', 'claudio', 'rio maria', 'sao carlos', 'barao de cotegipe', 'cambuquira', 'urucuia', 'pacotuba', 'leoberto leal', 'balneario pinhal', 'senador salgado filho', 'herval', 'pontalina', 'sertaozinho', 'sinop', 'curralinho', 'russas', 'santo antonio de padua', 'extrema', 'martinopolis', 'guaramirim', 'sabara', 'taciba', 'botupora', 'acaiaca', 'buique', 'varzea do poco', 'dourados', 'curvelandia', 'itacurussa', 'candelaria', 'catu', 'matoes', 'floreal', 'queixada', 'cotipora', 'costa rica', 'tome-acu', 'luis antonio', 'moncao', 'pinhotiba', 'sede alvorada', 'mirai', 'lagoa do ouro', 'dois irmaos', \"bandeirantes d'oeste\", 'divino das laranjeiras', 'gaucha do norte', 'campinorte', 'sao goncalo do para', 'sao joao do manteninha', 'santo antonio do sudoeste', 'aurea', 'assis chateaubriand', 'casimiro de abreu', 'joao neiva', 'perola', 'pereiro', 'bandeira', 'mantenopolis', 'santa rita do passa quatro', 'nova era', 'sao felix do coribe', 'frei gaspar', 'neves paulista', 'acu', 'guarapari', 'padre paraiso', 'silveira martins', 'salto veloso', 'santa maria', 'cameta', 'campos novos', 'girua', 'porteirinha', 'macaubal', 'presidente juscelino', 'cubatao', 'rancho queimado', 'perola independente', 'campo mourao', 'agua comprida', 'bom jesus da penha', 'guaxupe', 'sao bentinho', 'barra do tarrachil', 'rio grande do piaui', 'nanuque', 'cruz das almas', 'catu de abrantes', 'ribeira do pombal', 'boninal', 'rafard', 'guaratingueta', 'lagoa salgada', 'alto rio doce', 'paudalho', 'jarinu', 'barra do corda', 'barroso', 'planaltina do parana', 'sao vicente ferrer', 'maracanau', 'iati', 'barcarena', 'santana da vargem', 'pedra bela', 'lagoa vermelha', 'bemposta', 'itaquirai', 'diadema', 'jussara', 'juru', 'sananduva', 'caieiras', 'diogo de vasconcelos', 'farroupilha', 'catas altas', 'valinhos', 'paulo lopes', 'caparao', 'presidente olegario', 'peabiru', 'pedra preta', 'cachoeira de pajeu', 'parauna', 'planura', 'catende', 'estiva gerbi', 'galinhos', 'apiai', 'sumare', 'marechal candido rondon', 'macieira', 'cortes', 'nova guarita', 'oeiras', 'ibicoara', 'resplendor', 'dario meira', 'cidelandia', 'ribas do rio pardo', 'sao domingos do araguaia', 'ibertioga', 'primavera', 'guarulhos', 'manoel viana', 'nepomuceno', 'hortolandia', 'indianopolis', 'congonhal', 'guararema', 'jataizinho', 'formosa do rio preto', 'conceicao do tocantins', 'capitao leonidas marques', 'cajuru', 'morro agudo de goias', 'itagimirim', 'campos altos', 'nova timboteua', 'juti', 'carnauba dos dantas', 'uchoa', 'poco verde', 'monte alegre do sul', 'cipo-guacu', 'promissao', 'chapadao do ceu', 'sao jose do belmonte', 'jaguaruana', 'governador eugenio barros', 'gastao vidigal', 'serra dos aimores', 'ipigua', 'cachoeira do brumado', 'manaus', \"machadinho d'oeste\", 'jardim do serido', \"rancho alegre d'oeste\", 'jerico', 'azurita', 'dona emma', 'carutapera', 'anicuns', 'sao domingos do sul', 'currais novos', 'sao lourenco da serra', 'canela', 'cumaru', 'pirapozinho', 'herveiras', 'riqueza', 'itapora', 'cabo frio', 'piritiba', 'santo antonio do rio abaixo', 'central de santa helena', 'igarape-miri', 'gurupi', 'echapora', 'luziania', 'biritinga', 'itaara', 'perdizes', 'simolandia', 'ulianopolis', 'pontalinda', 'jaguare', 'braunas', 'catuipe', 'sao bernardino', 'luiziana', 'mascote', 'bela vista do paraiso', 'brotas', 'nazare paulista', 'botucatu', 'nova esperanca do sudoeste', 'altaneira', 'ibira', 'serra do salitre', 'terezinha', 'ibateguara', 'recife', 'caturama', 'sao jose do egito', 'nova trento', 'martins', 'rinopolis', 'embu', 'pirapo', 'pereira barreto', 'tabocas do brejo velho', 'reginopolis', 'colina', 'brumado', 'caninde de sao francisco', 'coromandel', 'lavrinhas', 'igarape', 'barra de guabiraba', 'fortim', 'uberaba', 'abare', 'jaguariuna', 'arapua', 'prado', 'itaberaba', 'camacari', 'faxinal dos guedes', 'iaciara', 'rodeio', 'senhora dos remedios', 'pouso alegre', 'amanari', 'mossoro', 'galia', 'parana', 'madalena', 'corupa', 'santa maria do salto', 'senador pompeu', 'novo brasil', 'mucambo', 'piao', 'mansidao', 'frutal', 'guapo', 'campo alegre de minas', 'santa mariana', 'barra do rio azul', 'neropolis', 'campestre do maranhao', 'francisco dumont', 'carambei', 'abaira', 'esteio', 'alfredo wagner', 'rio claro', 'tupancireta', 'capitao poco', 'bom jesus do itabapoana', 'coracao de jesus', 'rosario do sul', 'palmitinho', 'tanque novo', 'bom jesus dos perdoes', 'caiaponia', 'miranda', 'jabora', 'rio das ostras', 'aguas lindas de goias', 'prudente de morais', 'passira', 'poco de pedra', 'ponte alta do norte', 'varzedo', 'maracana', 'palmital de minas', 'portalegre', 'pedra do indaia', 'barras', 'balneario picarras', 'cipo', 'propria', 'moju', 'arembepe', 'tomar do geru', 'montadas', 'santa luzia do parua', 'janauba', 'brejo bonito', 'vargem grande do soturno', 'lavras', 'bicas', 'blumenau', 'candiota', 'formosa', 'santanesia', 'arroio dos ratos', 'oleo', 'sao pedro do butia', 'nazare', 'agrolandia', 'pedras de fogo', 'alegrete do piaui', 'croata', 'erechim', 'marau', 'vigia', 'berizal', 'igapora', 'bento goncalves', 'turvo', 'ipira', 'conceicao de macabu', 'campo bonito', 'palotina', 'santa barbara do sul', \"perola d'oeste\", 'montanha', 'rio de janeiro', 'ico', 'vacaria', 'garrafao do norte', 'itaperuna', 'tutoia', 'nova campina', 'dobrada', 'sao pedro do sul', 'vila muriqui', 'pindamonhangaba', 'guariroba', 'pirai do sul', 'taguai', 'itaobim', \"santa barbara d'oeste\", 'ouroeste', 'pau dos ferros', 'matipo', 'vargeao', 'timbe do sul', 'maua', \"santa clara d'oeste\", 'catalao', 'guimarania', 'campos gerais', 'sao sebastiao da grama', 'goiania', 'igreja nova', 'miracema', 'rainha do mar', 'nova roma do sul', 'barao do triunfo', 'gramado', 'mariopolis', 'amambai', 'faxinalzinho', 'abadia dos dourados', 'chapada dos guimaraes', 'braco do norte', 'angical do piaui', 'indaial', 'itagi', 'nova vicosa', 'missi', 'santa maria do herval', 'tabira', 'balsa nova', 'inhambupe', 'bodoquena', 'taquarucu do sul', 'potirendaba', 'liberato salzano', 'morungaba', 'trombudo central', 'natal', 'itatinga', 'alcobaca', 'colonia leopoldina', 'rio piracicaba', 'humberto de campos', 'sao jose da bela vista', 'guadalupe', 'ewbank da camara', 'ararica', 'marialva', 'fragosos', 'altamira do parana', 'ataleia', 'vermelho', 'matutina', 'cacador', 'julio mesquita', 'barao ataliba nogueira', 'mogi-mirim', 'santa barbara do para', 'posto da mata', 'ipueiras', 'adamantina', 'panambi', 'cerro grande do sul', 'nipoa', 'paragominas', 'entre-ijuis', 'lunardelli', 'candido sales', 'rio novo do sul', 'dracena', 'lagoa santa', 'candeias do jamari', 'irara', 'vicentinopolis', 'cerro negro', 'tunas do parana', 'caetanopolis', 'santo expedito', 'bombinhas', 'tibagi', 'sao jose', 'japira', 'serra dourada', 'mucuri', 'portela', 'sao jose da lapa', 'nova alvorada do sul', \"dias d'avila\", 'cordeiros', 'salobro', 'salto de pirapora', 'cambuci', 'barra do choca', 'uniao do sul', 'santo antonio do aventureiro', 'atalanta', 'pindai', 'medicilandia', 'paula freitas', 'ponto dos volantes', 'almirante tamandare do sul', 'mucuge', 'porangatu', 'junco do serido', 'santa barbara d oeste', 'porto de pedras', 'serrita', 'gaurama', 'diorama', 'conceicao do almeida', 'januaria', 'papagaios', 'boa viagem', 'conselheiro lafaiete', 'ribeirao do pinhal', 'arroio grande', 'ibiraci', 'turvelandia', 'sao marcos', 'ventania', 'feliz deserto', 'campo limpo paulista', 'goianesia', 'juina', 'canaa', 'passa tempo', 'cristais', 'sao pedro da aldeia', 'itabaiana', 'varjota', 'ipiranga do sul', 'capitao', 'muniz freire', 'amarante', 'visconde de maua', 'sales oliveira', 'muliterno', 'santa maria da serra', 'capinzal do norte', 'ibiracatu', 'papanduva', 'conceicao do caninde', 'tres irmaos', 'areal', 'portao', 'aracoiaba', 'ipixuna do para', 'cotegipe', 'sao pedro dos ferros', 'antonio martins', 'rancho alegre', 'riachuelo', 'sao mateus de minas', 'marilena', 'saubara', 'comercinho', 'jandira', 'vargem grande do rio pardo', 'mostardas', 'cuite velho', 'ribeiropolis', 'guairaca', 'iturama', 'santa brigida', 'urubici', 'mariluz', 'jumirim', 'sao paulo', 'moreilandia', 'santa fe de minas', 'sao joao do sabugi', 'agudo', 'cajapio', 'simao dias', 'sao joao nepomuceno', 'prudentopolis', 'divinesia', 'mondai', 'joao camara', 'cabreuva', 'sao joao de petropolis', 'guarda-mor', 'goioere', 'vargem bonita', 'santana do manhuacu', 'dom vicoso', 'porto murtinho', 'cunha', 'cariri do tocantins', 'buerarema', 'monte bonito', 'balneario barra do sul', 'bora', 'erval grande', 'ariquemes', 'sao fernando', 'ourinhos', 'buritizal', 'nossa senhora das gracas', 'caririacu', 'carlos chagas', 'fortaleza', 'juazeiro', 'nova soure', 'montanhas', 'agua santa', 'caxambu', 'feira de santana', 'tejupa', 'ribeirao preto', 'ipiau', 'tracuateua', 'itapura', 'guzolandia', 'pequi', 'jacarezinho', 'gilbues', 'oiapoque', 'americo de campos', 'capoeiras', 'santo antonio do caiua', 'mimoso de goias', 'divinopolis de goias', 'rubiacea', 'elias fausto', 'aparecida do taboado', 'aquidaba', 'itabera', 'forquilhinha', 'lagarto', 'pirai do norte', 'nova canaa paulista', 'quissama', 'pejucara', 'alagoinha', 'boa vista das missoes', 'novo oriente', 'aripuana', 'tres coracoes', 'agua fria de goias', 'ravena', 'hidrolandia', 'araruna', 'vista alegre', 'breu branco', 'ubai', 'cerejeiras', 'itacoatiara', 'inhapi', 'mata verde', 'escada', 'novo lino', 'passo de torres', 'santa helena', 'candeias', 'curuca', 'barra dos coqueiros', 'conceicao do formoso', 'vila pereira', 'sao mateus do maranhao', 'novo alegre', 'nova russas', 'nova hartz', 'anchieta', 'cedro', 'caridade', 'carangola', 'santa tereza do oeste', 'porto trombetas', 'vila langaro', 'paraiso do tocantins', 'jaguaruna', 'viamao', 'canelinha', 'california da barra', 'figueira', 'colinas do tocantins', 'guarei', 'sao joao batista', 'doce grande', 'itiuba', 'antonio goncalves', 'pescador', 'sao sebastiao de campos', 'pio xii', 'cachoeira do campo', 'lago da pedra', 'carmopolis de minas', 'sao caetano do sul', 'sao sepe', 'quilometro 14 do mutum', 'moeda', 'pinheiros', 'corrego fundo', 'redencao da serra', 'otacilio costa', 'mairipora', 'eugenopolis', 'porto uniao', 'morro da fumaca', 'wagner', 'sao jose do hortencio', 'orobo', 'morro do pilar', 'galvao', 'ceres', 'santo eduardo', 'presidente getulio', 'araras', 'doutor camargo', 'santa cruz do piaui', 'senhor do bonfim', 'nova mamore', 'ibirama', 'potengi', 'santana do mundau', 'barbosa ferraz', 'ouro verde do oeste', 'paraty', 'arvoredo', 'peruibe', 'pedro osorio', 'palmeira dos indios', 'sao miguel do guama', 'agua limpa', 'alto piquiri', 'capela de santana', 'central', 'arvorezinha', 'descalvado', 'paranaiguara', 'jacareacanga', 'jaguaquara', 'guajara-mirim', 'vera cruz', 'manfrinopolis', 'sao jose dos cordeiros', 'termas de ibira', \"palmeira d'oeste\", 'icatu', 'guamiranga', 'coronel sapucaia', 'sao joaquim da barra', 'barueri', 'cesario lange', 'pontal', 'marilia', 'jacutinga', 'leopoldo de bulhoes', 'japoata', 'coronel martins', 'ivinhema', 'estancia velha', 'guaiba', 'ubirata', 'dionisio cerqueira', 'sao lourenco do piaui', 'campos sales', 'rio pardo de minas', 'sao felix de minas', 'brotas de macaubas', 'cantanhede', 'sao joao batista do gloria', 'alto alegre do iguacu', 'arinos', 'dores do rio preto', 'tabapua', 'pocoes de paineiras', 'parati', 'porto alegre', 'venda nova do imigrante', 'quintana', 'pacoti', 'bom jesus da serra', 'tapiratiba', 'agua doce', 'itapira', 'pedreiras', 'jucurucu', 'cambira', 'paraiba do sul', 'canoas', 'pedrao', 'jacunda', 'rio negro', 'cocalzinho de goias', 'capao bonito', 'barretos', 'paraiso', \"pau d'arco\", 'piraquara', 'brazabrantes', 'cruzeiro da fortaleza', 'itaberai', 'barra de sao joao', 'santa teresinha', 'iguape', 'lindoeste', 'boa vista', 'embauba', 'paranaita', 'conselheiro pena', 'montalvania', 'santa amelia', 'bofete', 'carolina', 'marataizes', 'quinta do sol', 'guaraciaba do norte', 'catanduva', 'nova aurora', 'bom jesus do sul', 'barra do pirai', 'nova redencao', 'tabuleiro', 'encruzilhada do sul', 'cacequi', 'passos maia', 'potim', 'cezarina', 'nova guataporanga', 'santa luzia do norte', 'lagoa nova', 'santa cruz do prata', 'araujos', 'sud mennucci', 'sao tome', 'severiano melo', 'lupercio', 'urutai', 'santa isabel do rio preto', 'colider', 'capela nova', 'sao jose de mipibu', 'quijingue', 'navirai', 'iguatama', 'peritiba', 'grupiara', 'avai', 'pratapolis', 'porto real', 'jucas', 'florianopolis', 'eneas marques', 'delmiro gouveia', 'maravilha', 'tres passos', 'baianopolis', 'sao goncalo do sapucai', 'serra azul de minas', 'macau', 'bras pires', 'soledade de minas', 'independencia', 'cajazeiras', 'kalore', 'tumiritinga', 'baldim', 'santo antonio do palma', 'arcos', 'paranapanema', 'sao pedro de alcantara', 'bituruna', 'carmopolis', 'sao jose dos quatro marcos', 'liberdade', 'munhoz', 'ubaira', 'boa vista do gurupi', 'ibiraiaras', 'sao jose da tapera', 'capim grosso', 'nova bandeirantes', 'senador canedo', 'arenopolis', 'ervalia', 'virgem da lapa', 'pinto bandeira', 'capinzal', 'tibau do sul', 'bom jesus do araguaia', 'irineopolis', 'morpara', 'sao valentim', 'ivaipora', 'maranguape', 'santa rita do itueto', 'pinhal da serra', 'rio dos indios', 'americano do brasil', 'conceicao das alagoas', 'nobres', 'glaura', 'pocos de caldas', 'tres marias', 'rubineia', 'cristalia', 'putinga', 'sao nicolau', 'tres de maio', 'goias', 'lupionopolis', 'novais', 'sao jose do rio claro', 'jaupaci', 'iepe', 'bela vista do maranhao', 'sao joao do paraiso', 'serranopolis de minas', 'trombas', 'fronteiras', 'mendes pimentel', 'santo inacio', 'santana de parnaiba', 'antonina do norte', 'sao jorge do ivai', 'guaranta do norte', 'silvianopolis', 'agronomica', 'panelas', 'travessao', 'sacramento', 'itaguacu da bahia', 'coroata', 'itutinga', 'maravilhas', 'gameleiras', 'santos', 'joaima', 'canapi', 'cerqueira cesar', 'porto alegre do norte', 'porto velho', 'silveiras', 'paulo de faria', 'santana do itarare', 'cassilandia', 'muqui', 'cocais', 'carmo', \"alta floresta d'oeste\", 'goncalves', 'itatiaiucu', 'mirandopolis', 'dois riachos', 'imbituva', 'tupassi', 'pouso redondo', 'pentecoste', 'nova europa', 'sao jose dos campos', 'cururupu', 'miranorte', 'riacho dos machados', 'macapa', 'guatapara', 'presidente bernardes', 'iguai', 'itapema', 'fortuna', 'marechal floriano', 'sao jose do cedro', 'pirapora', 'nazare da mata', 'divinopolis', 'uruacu', 'santana de pirapama', 'benedito novo', 'piedade', 'tamarana', 'terra nova', 'campo magro', 'mogi mirim', 'ribeirao do sul', 'sao bras', 'bady bassitt', 'clementina', 'novo gama', 'castelo', 'barra de santo antonio', 'pinheiro', 'sao jose do rio pardo', 'monte belo', 'arandu', 'salto grande', \"aparecida d'oeste\", 'pontal do parana', 'carnaubal', 'campina da lagoa', 'wenceslau guimaraes', 'orleans', 'caibate', 'lajedo', 'guaranta', 'corrego danta', 'vitorinos', 'itauna', 'nova crixas', 'quatituba', 'paraguacu', 'itatiba', 'boituva', 'vila reis', 'resende costa', 'capitao eneas', 'coronel vivida', 'piratininga', 'pouso alto', 'canavieiras', 'castro', 'barauna', 'miranda do norte', 'jales', 'nova itaberaba', 'carinhanha', 'parnarama', 'telemaco borba', 'baixo guandu', 'monte azul paulista', 'cicero dantas', 'concordia', 'mogi das cruzes', 'piracicaba', 'viradouro', 'bom retiro', 'arapoema', 'teofilandia', 'rio pomba', 'ilicinea', 'juscimeira', 'santa lucia', 'santa quiteria do maranhao', 'tupandi', 'sao joao de meriti', 'contenda', 'novo mundo', 'acarau', 'itaiopolis', 'sao joao do sul', 'campo formoso', 'sooretama', 'fenix', 'jussiape', 'barbalha', 'pedra', 'pequizeiro', 'piumhii', 'querencia', 'cacapava do sul', 'correia pinto', 'estrela d oeste', 'canudos', \"olhos d'agua\", 'sao miguel', 'cassia', 'mutum', 'boraceia', 'sao jose do turvo', 'taquaritinga do norte', 'itatiba do sul', 'missal', 'tocantins', 'turvania', 'mutum parana', 'sao joao das missoes', 'periquito', 'pacajus', 'dom pedrito', 'sapucai-mirim', 'duas barras', 'poco fundo', 'irani', 'glicerio', 'lontras', 'joviania', 'ponta grossa', 'vicosa', 'imbe de minas', 'edeia', 'juruaia', 'picarra', 'candido mota', 'venancio aires', 'rio acima', 'limoeiro do norte', 'uruana', 'santo antonio dos campos', 'demerval lobao', 'taquari', 'ocara', 'brejo santo', 'garruchos', 'piacatu', 'sao joao da parauna', 'ibiajara', 'irai de minas', 'serra do ramalho', 'ibiapina', 'monte carlo', 'laranjal', 'benedito leite', 'presidente prudente', 'paracambi', 'belo jardim', 'brumadinho', 'volta redonda', 'nova monte verde', 'serro', 'anapolis', 'lagoa de sao francisco', 'guaruja do sul', 'aiuaba', 'flores', 'italva', 'nacip raydan', 'tiangua', 'mineiros do tiete', 'mage', 'ubata', 'joao pinheiro', 'ararangua', 'pimenta', 'mira estrela', 'igarassu', 'porto belo', 'conceicao do castelo', 'santa rita da floresta', 'suzanapolis', 'sao geraldo do baguari', 'miracatu', 'coqueiro baixo', 'meruoca', 'carmo do paranaiba', 'picarras', 'matoes do norte', 'alto paraiso', 'amparo da serra', 'porto feliz', 'ilha grande', 'vera cruz do oeste', 'oriente', 'tapes', 'itupiranga', 'auriflama'}\n"
     ]
    }
   ],
   "source": [
    "unique_cities = set(data[\"customer_city\"])\n",
    "print(unique_cities)\n"
   ]
  },
  {
   "cell_type": "code",
   "execution_count": 14,
   "metadata": {
    "colab": {
     "base_uri": "https://localhost:8080/"
    },
    "id": "3fJ6QsNONyoE",
    "outputId": "7028db98-ba94-46e0-de21-9160f24071cc"
   },
   "outputs": [
    {
     "name": "stdout",
     "output_type": "stream",
     "text": [
      "{'RO', 'PB', 'CE', 'SC', 'MS', 'RN', 'MG', 'AP', 'AC', 'AM', 'MA', 'RS', 'TO', 'RJ', 'PE', 'PA', 'DF', 'BA', 'PI', 'GO', 'RR', 'SP', 'ES', 'MT', 'AL', 'PR', 'SE'}\n"
     ]
    }
   ],
   "source": [
    "unique_state = set(data[\"customer_state\"])\n",
    "print(unique_state)"
   ]
  },
  {
   "cell_type": "markdown",
   "metadata": {
    "id": "_WeHlCeX8DC2"
   },
   "source": [
    "## Conclusion"
   ]
  },
  {
   "cell_type": "markdown",
   "metadata": {
    "id": "ZTcyR48Y8DC2"
   },
   "source": [
    "- Dari data customer yang berisi 99441 baris dengan 5 kolom, dapat dilihat terdapat 5 kota diantaranya sao bernardo do campo, franca, sao paulo, mogi das cruzes, dan campinas. Kota yang memiliki pelanggan terbanyak yaitu kota Sao Paulo yaitu sebanyak 15540 pelanggan.\n",
    "- Kita dapat menggunakan bar chart untuk memvisualisasikan 10 kota yang memiliki customer terbanyak."
   ]
  },
  {
   "cell_type": "markdown",
   "metadata": {},
   "source": [
    "# RFM Analysis, Geoanalysis, dan Clustering"
   ]
  },
  {
   "cell_type": "code",
   "execution_count": 32,
   "metadata": {},
   "outputs": [
    {
     "data": {
      "text/html": [
       "<div>\n",
       "<style scoped>\n",
       "    .dataframe tbody tr th:only-of-type {\n",
       "        vertical-align: middle;\n",
       "    }\n",
       "\n",
       "    .dataframe tbody tr th {\n",
       "        vertical-align: top;\n",
       "    }\n",
       "\n",
       "    .dataframe thead th {\n",
       "        text-align: right;\n",
       "    }\n",
       "</style>\n",
       "<table border=\"1\" class=\"dataframe\">\n",
       "  <thead>\n",
       "    <tr style=\"text-align: right;\">\n",
       "      <th></th>\n",
       "      <th>customer_id</th>\n",
       "      <th>total_orders</th>\n",
       "      <th>total_spent</th>\n",
       "      <th>Customer_Segment</th>\n",
       "    </tr>\n",
       "  </thead>\n",
       "  <tbody>\n",
       "    <tr>\n",
       "      <th>0</th>\n",
       "      <td>06b8999e2fba1a1fbc88172c00ba8bc7</td>\n",
       "      <td>5</td>\n",
       "      <td>500</td>\n",
       "      <td>Low Value</td>\n",
       "    </tr>\n",
       "    <tr>\n",
       "      <th>1</th>\n",
       "      <td>18955e83d337fd6b2def6b18a428ac77</td>\n",
       "      <td>10</td>\n",
       "      <td>1500</td>\n",
       "      <td>High Value</td>\n",
       "    </tr>\n",
       "    <tr>\n",
       "      <th>2</th>\n",
       "      <td>4e7b3e00288586ebd08712fdd0374a03</td>\n",
       "      <td>3</td>\n",
       "      <td>300</td>\n",
       "      <td>Low Value</td>\n",
       "    </tr>\n",
       "    <tr>\n",
       "      <th>3</th>\n",
       "      <td>b2b6027bc5c5109e529d4dc6358b12c3</td>\n",
       "      <td>8</td>\n",
       "      <td>800</td>\n",
       "      <td>Medium Value</td>\n",
       "    </tr>\n",
       "    <tr>\n",
       "      <th>4</th>\n",
       "      <td>4f2d8ab171c80ec8364f7c12e35b23ad</td>\n",
       "      <td>12</td>\n",
       "      <td>2000</td>\n",
       "      <td>High Value</td>\n",
       "    </tr>\n",
       "  </tbody>\n",
       "</table>\n",
       "</div>"
      ],
      "text/plain": [
       "                        customer_id  total_orders  total_spent  \\\n",
       "0  06b8999e2fba1a1fbc88172c00ba8bc7             5          500   \n",
       "1  18955e83d337fd6b2def6b18a428ac77            10         1500   \n",
       "2  4e7b3e00288586ebd08712fdd0374a03             3          300   \n",
       "3  b2b6027bc5c5109e529d4dc6358b12c3             8          800   \n",
       "4  4f2d8ab171c80ec8364f7c12e35b23ad            12         2000   \n",
       "\n",
       "  Customer_Segment  \n",
       "0        Low Value  \n",
       "1       High Value  \n",
       "2        Low Value  \n",
       "3     Medium Value  \n",
       "4       High Value  "
      ]
     },
     "execution_count": 32,
     "metadata": {},
     "output_type": "execute_result"
    }
   ],
   "source": [
    "import pandas as pd\n",
    "data = {\n",
    "    'customer_id': ['06b8999e2fba1a1fbc88172c00ba8bc7', '18955e83d337fd6b2def6b18a428ac77', \n",
    "                    '4e7b3e00288586ebd08712fdd0374a03', 'b2b6027bc5c5109e529d4dc6358b12c3',\n",
    "                    '4f2d8ab171c80ec8364f7c12e35b23ad'],\n",
    "    'total_orders': [5, 10, 3, 8, 12],\n",
    "    'total_spent': [500, 1500, 300, 800, 2000]\n",
    "}\n",
    "\n",
    "df = pd.DataFrame(data)\n",
    "def segment_customer(row):\n",
    "    if row['total_orders'] > 8 and row['total_spent'] > 1000:\n",
    "        return 'High Value'\n",
    "    elif row['total_orders'] > 5:\n",
    "        return 'Medium Value'\n",
    "    else:\n",
    "        return 'Low Value'\n",
    "df['Customer_Segment'] = df.apply(segment_customer, axis=1)\n",
    "df"
   ]
  },
  {
   "cell_type": "markdown",
   "metadata": {},
   "source": [
    "Berikut adalah rangkuman dari tabel yang berisi informasi tentang pelanggan:\n",
    "\n",
    "- customer_id: Identifikasi unik setiap pelanggan.\n",
    "- total_orders: Jumlah total pesanan yang dilakukan oleh pelanggan.\n",
    "- total_spent: Total uang yang dihabiskan oleh setiap pelanggan.\n",
    "- Customer_Segment: Klasifikasi pelanggan berdasarkan nilai mereka:\n",
    "  - Low Value: Pelanggan dengan pengeluaran rendah (misalnya, 500 dan 300).\n",
    "  - Medium Value: Pelanggan dengan pengeluaran sedang (misalnya, 800).\n",
    "  - High Value: Pelanggan dengan pengeluaran tinggi (misalnya, 1500 dan 2000).\n",
    "\n",
    "### Kesimpulan:\n",
    "Tabel ini membantu perusahaan memahami perilaku dan nilai pelanggan, yang dapat digunakan untuk mengembangkan strategi pemasaran dan pelayanan yang lebih efektif."
   ]
  },
  {
   "cell_type": "markdown",
   "metadata": {},
   "source": [
    "# Geoanalysis"
   ]
  },
  {
   "cell_type": "code",
   "execution_count": 39,
   "metadata": {},
   "outputs": [
    {
     "data": {
      "image/png": "[encoded data removed]",
      "text/plain": [
       "<Figure size 640x480 with 1 Axes>"
      ]
     },
     "metadata": {},
     "output_type": "display_data"
    }
   ],
   "source": [
    "geo_data = {\n",
    "    'customer_city': ['franca', 'sao bernardo do campo', 'sao paulo', 'mogi das cruzes', 'campinas'],\n",
    "    'total_spent': [200, 1500, 3000, 800, 2000]\n",
    "}\n",
    "geo_df = pd.DataFrame(geo_data)\n",
    "geo_analysis = geo_df.groupby('customer_city').sum().reset_index()\n",
    "bars = plt.bar(geo_analysis['customer_city'], geo_analysis['total_spent'], color='blue')\n",
    "\n",
    "for bar in bars:\n",
    "    yval = bar.get_height() \n",
    "    plt.text(bar.get_x() + bar.get_width()/2, yval, int(yval), ha='center', va='bottom')  # Menambahkan teks\n",
    "plt.xlabel(\"City\")\n",
    "plt.ylabel(\"Total Spent\")\n",
    "plt.title(\"Total Spending by City\")\n",
    "plt.xticks(rotation=45)\n",
    "plt.show()\n"
   ]
  },
  {
   "cell_type": "markdown",
   "metadata": {},
   "source": [
    "Grafik ini menunjukkan gambaran tentang seberapa banyak total pengeluaran pelanggan dari berbagai kota."
   ]
  },
  {
   "cell_type": "markdown",
   "metadata": {},
   "source": [
    "# RFM Analysis"
   ]
  },
  {
   "cell_type": "code",
   "execution_count": 35,
   "metadata": {},
   "outputs": [
    {
     "name": "stdout",
     "output_type": "stream",
     "text": [
      "Nilai unik Recency: [91 87 72 46 60]\n",
      "Nilai unik Frequency: [1]\n",
      "Nilai unik Monetary: [100 200 150 500 400]\n"
     ]
    },
    {
     "data": {
      "text/html": [
       "<div>\n",
       "<style scoped>\n",
       "    .dataframe tbody tr th:only-of-type {\n",
       "        vertical-align: middle;\n",
       "    }\n",
       "\n",
       "    .dataframe tbody tr th {\n",
       "        vertical-align: top;\n",
       "    }\n",
       "\n",
       "    .dataframe thead th {\n",
       "        text-align: right;\n",
       "    }\n",
       "</style>\n",
       "<table border=\"1\" class=\"dataframe\">\n",
       "  <thead>\n",
       "    <tr style=\"text-align: right;\">\n",
       "      <th></th>\n",
       "      <th>customer_id</th>\n",
       "      <th>Recency</th>\n",
       "      <th>Frequency</th>\n",
       "      <th>Monetary</th>\n",
       "      <th>R_Score</th>\n",
       "      <th>F_Score</th>\n",
       "      <th>M_Score</th>\n",
       "      <th>RFM_Score</th>\n",
       "    </tr>\n",
       "  </thead>\n",
       "  <tbody>\n",
       "    <tr>\n",
       "      <th>0</th>\n",
       "      <td>06b8999e2fba1a1fbc88172c00ba8bc7</td>\n",
       "      <td>91</td>\n",
       "      <td>1</td>\n",
       "      <td>100</td>\n",
       "      <td>1</td>\n",
       "      <td>1</td>\n",
       "      <td>1</td>\n",
       "      <td>111</td>\n",
       "    </tr>\n",
       "    <tr>\n",
       "      <th>1</th>\n",
       "      <td>18955e83d337fd6b2def6b18a428ac77</td>\n",
       "      <td>87</td>\n",
       "      <td>1</td>\n",
       "      <td>200</td>\n",
       "      <td>2</td>\n",
       "      <td>1</td>\n",
       "      <td>2</td>\n",
       "      <td>212</td>\n",
       "    </tr>\n",
       "    <tr>\n",
       "      <th>2</th>\n",
       "      <td>4e7b3e00288586ebd08712fdd0374a03</td>\n",
       "      <td>72</td>\n",
       "      <td>1</td>\n",
       "      <td>150</td>\n",
       "      <td>3</td>\n",
       "      <td>1</td>\n",
       "      <td>1</td>\n",
       "      <td>311</td>\n",
       "    </tr>\n",
       "    <tr>\n",
       "      <th>3</th>\n",
       "      <td>4f2d8ab171c80ec8364f7c12e35b23ad</td>\n",
       "      <td>46</td>\n",
       "      <td>1</td>\n",
       "      <td>500</td>\n",
       "      <td>4</td>\n",
       "      <td>1</td>\n",
       "      <td>4</td>\n",
       "      <td>414</td>\n",
       "    </tr>\n",
       "    <tr>\n",
       "      <th>4</th>\n",
       "      <td>b2b6027bc5c5109e529d4dc6358b12c3</td>\n",
       "      <td>60</td>\n",
       "      <td>1</td>\n",
       "      <td>400</td>\n",
       "      <td>4</td>\n",
       "      <td>1</td>\n",
       "      <td>3</td>\n",
       "      <td>413</td>\n",
       "    </tr>\n",
       "  </tbody>\n",
       "</table>\n",
       "</div>"
      ],
      "text/plain": [
       "                        customer_id  Recency  Frequency  Monetary R_Score  \\\n",
       "0  06b8999e2fba1a1fbc88172c00ba8bc7       91          1       100       1   \n",
       "1  18955e83d337fd6b2def6b18a428ac77       87          1       200       2   \n",
       "2  4e7b3e00288586ebd08712fdd0374a03       72          1       150       3   \n",
       "3  4f2d8ab171c80ec8364f7c12e35b23ad       46          1       500       4   \n",
       "4  b2b6027bc5c5109e529d4dc6358b12c3       60          1       400       4   \n",
       "\n",
       "   F_Score M_Score RFM_Score  \n",
       "0        1       1       111  \n",
       "1        1       2       212  \n",
       "2        1       1       311  \n",
       "3        1       4       414  \n",
       "4        1       3       413  "
      ]
     },
     "execution_count": 35,
     "metadata": {},
     "output_type": "execute_result"
    }
   ],
   "source": [
    "import pandas as pd\n",
    "transactions = {\n",
    "    'customer_id': ['06b8999e2fba1a1fbc88172c00ba8bc7', '18955e83d337fd6b2def6b18a428ac77', \n",
    "                    '4e7b3e00288586ebd08712fdd0374a03', 'b2b6027bc5c5109e529d4dc6358b12c3', \n",
    "                    '4f2d8ab171c80ec8364f7c12e35b23ad'],\n",
    "    'order_date': ['2024-01-01', '2024-01-05', '2024-01-20', '2024-02-01', '2024-02-15'],\n",
    "    'order_amount': [100, 200, 150, 400, 500]\n",
    "}\n",
    "\n",
    "trans_df = pd.DataFrame(transactions)\n",
    "trans_df['order_date'] = pd.to_datetime(trans_df['order_date'])\n",
    "current_date = pd.to_datetime('2024-04-01')\n",
    "rfm = trans_df.groupby('customer_id').agg(\n",
    "    Recency=('order_date', lambda x: (current_date - x.max()).days),  # Recency\n",
    "    Frequency=('order_date', 'count'),  # Frequency\n",
    "    Monetary=('order_amount', 'sum')  # Monetary\n",
    ").reset_index()\n",
    "\n",
    "print(\"Nilai unik Recency:\", rfm['Recency'].unique())\n",
    "print(\"Nilai unik Frequency:\", rfm['Frequency'].unique())\n",
    "print(\"Nilai unik Monetary:\", rfm['Monetary'].unique())\n",
    "rfm['R_Score'] = pd.qcut(rfm['Recency'], 4, labels=[4, 3, 2, 1], duplicates='drop')\n",
    "\n",
    "if rfm['Frequency'].nunique() > 1:\n",
    "    rfm['F_Score'] = pd.qcut(rfm['Frequency'], 4, labels=[1, 2, 3, 4], duplicates='drop')\n",
    "else:\n",
    "    rfm['F_Score'] = 1 \n",
    "if rfm['Monetary'].nunique() > 1:\n",
    "    rfm['M_Score'] = pd.qcut(rfm['Monetary'], 4, labels=[1, 2, 3, 4], duplicates='drop')\n",
    "else:\n",
    "    rfm['M_Score'] = 1 \n",
    "rfm['RFM_Score'] = rfm['R_Score'].astype(str) + rfm['F_Score'].astype(str) + rfm['M_Score'].astype(str)\n",
    "rfm\n"
   ]
  },
  {
   "cell_type": "markdown",
   "metadata": {},
   "source": [
    "* Recency menunjukkan beberapa hari yang telah berlalu sejak pelanggan terakhir melakukan pembelian, angka yang lebih rendah berarti pelanggan baru-baru ini melakukan pembelian, sementara angka yang lebih tinggi menunjukkan bahwa pelanggan tidak berbelanja dalam waktu yang lama.\n",
    "\n",
    "* Frequency menunjukkan jumlah transaksi yang dilakukan oleh pelanggan dalam periode analisis. dalam contoh ini semua pelanggan memiliki nilai frequency 1 yang berarti setiap pelanggan hanya melakukan satu pembelian.\n",
    "\n",
    "* Monetary menunjukkan total uang yang dibelanjakan oleh pelanggan.\n",
    "\n",
    "* R_Score yang tinggi menunjukkan pelanggan yang lebih baru, sedangkan skor yang rendah menunjukkan pelangan yang lama tidak melakukan pembelian.\n",
    "\n",
    "* F_Score adalah skor untuk frequency, karena semua hanya melakukan satu pembelian, maka semua mendapatkan skor 1.\n",
    "\n",
    "* M_Score adalah skor untuk monetary, menunjukkan jumlah total uang yang dibelanjakkan\n",
    "\n",
    "* RFM_score adalah kombinasi dari tiga skor R,F dan M. Skor ini dapat digunakan untuk mengelompokkan pelanggan menjadi segmen yang berbeda berdasarkan perilaku pembelian. Contohnya RFM_Score 111 adalah pelanggan yang paling tidak aktif dan paling sedikit berbelanja, sedangkan pelanggan dengan RFM_Score 414 adalah pelanggan yang baru."
   ]
  },
  {
   "cell_type": "code",
   "execution_count": 15,
   "metadata": {
    "colab": {
     "base_uri": "https://localhost:8080/",
     "height": 206
    },
    "id": "Clfdr064dUG8",
    "outputId": "c5f9d6ea-1651-450e-e345-af1be839cf4a"
   },
   "outputs": [
    {
     "data": {
      "text/html": [
       "<div>\n",
       "<style scoped>\n",
       "    .dataframe tbody tr th:only-of-type {\n",
       "        vertical-align: middle;\n",
       "    }\n",
       "\n",
       "    .dataframe tbody tr th {\n",
       "        vertical-align: top;\n",
       "    }\n",
       "\n",
       "    .dataframe thead th {\n",
       "        text-align: right;\n",
       "    }\n",
       "</style>\n",
       "<table border=\"1\" class=\"dataframe\">\n",
       "  <thead>\n",
       "    <tr style=\"text-align: right;\">\n",
       "      <th></th>\n",
       "      <th>customer_id</th>\n",
       "      <th>monetary</th>\n",
       "    </tr>\n",
       "  </thead>\n",
       "  <tbody>\n",
       "    <tr>\n",
       "      <th>0</th>\n",
       "      <td>00012a2ce6f8dcda20d059ce98491703</td>\n",
       "      <td>SP</td>\n",
       "    </tr>\n",
       "    <tr>\n",
       "      <th>1</th>\n",
       "      <td>000161a058600d5901f007fab4c27140</td>\n",
       "      <td>MG</td>\n",
       "    </tr>\n",
       "    <tr>\n",
       "      <th>2</th>\n",
       "      <td>0001fd6190edaaf884bcaf3d49edf079</td>\n",
       "      <td>ES</td>\n",
       "    </tr>\n",
       "    <tr>\n",
       "      <th>3</th>\n",
       "      <td>0002414f95344307404f0ace7a26f1d5</td>\n",
       "      <td>MG</td>\n",
       "    </tr>\n",
       "    <tr>\n",
       "      <th>4</th>\n",
       "      <td>000379cdec625522490c315e70c7a9fb</td>\n",
       "      <td>SP</td>\n",
       "    </tr>\n",
       "  </tbody>\n",
       "</table>\n",
       "</div>"
      ],
      "text/plain": [
       "                        customer_id monetary\n",
       "0  00012a2ce6f8dcda20d059ce98491703       SP\n",
       "1  000161a058600d5901f007fab4c27140       MG\n",
       "2  0001fd6190edaaf884bcaf3d49edf079       ES\n",
       "3  0002414f95344307404f0ace7a26f1d5       MG\n",
       "4  000379cdec625522490c315e70c7a9fb       SP"
      ]
     },
     "execution_count": 15,
     "metadata": {},
     "output_type": "execute_result"
    }
   ],
   "source": [
    "rfm_df = data.groupby(by=\"customer_id\", as_index=False).agg({\n",
    "    \"customer_id\": \"max\",\n",
    "    \"customer_city\": \"nunique\",\n",
    "    \"customer_state\": \"sum\"\n",
    "})\n",
    "rfm_df.columns = [\"customer_id\", \"max_order_timestamp\", \"monetary\"]\n",
    "\n",
    "rfm_df[\"max_order_timestamp\"] = pd.to_datetime(rfm_df[\"max_order_timestamp\"], errors='coerce')\n",
    "rfm_df[\"max_order_timestamp\"] = rfm_df[\"max_order_timestamp\"].dt.date\n",
    "\n",
    "rfm_df.drop(\"max_order_timestamp\", axis=1, inplace=True)\n",
    "rfm_df.head()"
   ]
  },
  {
   "cell_type": "code",
   "execution_count": 16,
   "metadata": {
    "id": "ZdmSrjSGNreM"
   },
   "outputs": [],
   "source": [
    "data.to_csv(\"all_data.csv\", index=False)"
   ]
  }
 ],
 "metadata": {
  "colab": {
   "provenance": []
  },
  "kernelspec": {
   "display_name": "Python 3 (ipykernel)",
   "language": "python",
   "name": "python3"
  },
  "language_info": {
   "codemirror_mode": {
    "name": "ipython",
    "version": 3
   },
   "file_extension": ".py",
   "mimetype": "text/x-python",
   "name": "python",
   "nbconvert_exporter": "python",
   "pygments_lexer": "ipython3",
   "version": "3.11.5"
  },
  "vscode": {
   "interpreter": {
    "hash": "972b3bf27e332e87b5379f2791f6ef9dfc79c71018c370b0d7423235e20fe4d7"
   }
  }
 },
 "nbformat": 4,
 "nbformat_minor": 1
}
